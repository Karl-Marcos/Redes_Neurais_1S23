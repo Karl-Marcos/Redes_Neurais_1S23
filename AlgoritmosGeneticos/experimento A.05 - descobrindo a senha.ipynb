{
 "cells": [
  {
   "cell_type": "markdown",
   "metadata": {},
   "source": [
    "Descobrindo a senha\n",
    "===================\n",
    "\n"
   ]
  },
  {
   "cell_type": "markdown",
   "metadata": {},
   "source": [
    "## Objetivo\n",
    "\n"
   ]
  },
  {
   "cell_type": "markdown",
   "metadata": {},
   "source": [
    "Usar um algoritmo genético para descobrir uma senha.\n",
    "\n"
   ]
  },
  {
   "cell_type": "markdown",
   "metadata": {},
   "source": [
    "## Descrição do problema\n",
    "\n"
   ]
  },
  {
   "cell_type": "markdown",
   "metadata": {},
   "source": [
    "Neste problema, a função objetivo deve saber a senha correta e quantificar de alguma maneira o quão perto ou longe os palpites estão da solução (veja que isso é algo que não temos no mundo real. Nenhum site irá te dizer se você está acertando ou errando seu palpite). O critério de parada deste problema é quando a senha for descoberta."
   ]
  },
  {
   "cell_type": "markdown",
   "metadata": {},
   "source": [
    "## Importações\n",
    "\n"
   ]
  },
  {
   "cell_type": "code",
   "execution_count": 1,
   "metadata": {},
   "outputs": [],
   "source": [
    "from funcoes import populacao_inicial_senha\n",
    "from funcoes import funcao_objetivo_pop_senha\n",
    "from funcoes import selecao_torneio_min\n",
    "from funcoes import cruzamento_ponto_simples as funcao_cruzamento\n",
    "from funcoes import mutacao_senha\n",
    "import random as rd"
   ]
  },
  {
   "cell_type": "markdown",
   "metadata": {},
   "source": [
    "## Códigos e discussão\n",
    "\n"
   ]
  },
  {
   "cell_type": "code",
   "execution_count": 2,
   "metadata": {},
   "outputs": [],
   "source": [
    "### CONSTANTES\n",
    "\n",
    "# relacionadas à busca\n",
    "TAMANHO_POP = 50\n",
    "NUM_GERACOES = 2000\n",
    "CHANCE_CRUZAMENTO = 0.5\n",
    "CHANCE_MUTACAO = 0.05\n",
    "NUM_COMBATENTES_NO_TORNEIO = 3\n",
    "\n",
    "# relacionadas ao problema a ser resulvido\n",
    "SENHA = \"correcthorsebatterystaple\"\n",
    "LETRAS_POSSIVEIS = \"abcdefghijklmnopqrstuvwxyz\"\n",
    "NUM_GENES = len(SENHA)"
   ]
  },
  {
   "cell_type": "code",
   "execution_count": 3,
   "metadata": {},
   "outputs": [],
   "source": [
    "# funções locais (para não ter que colocar as variaveis locais no script)\n",
    "\n",
    "def cria_populacao_inicial(tamanho, tamanho_senha):\n",
    "    return populacao_inicial_senha(tamanho, tamanho_senha, LETRAS_POSSIVEIS)\n",
    "\n",
    "def funcao_objetivo_pop(populacao):\n",
    "    return funcao_objetivo_pop_senha(populacao, SENHA)\n",
    "\n",
    "def funcao_selecao(populacao, fitness):\n",
    "    return selecao_torneio_min(populacao, fitness, NUM_COMBATENTES_NO_TORNEIO)\n",
    "\n",
    "def funcao_mutacao(individuo):\n",
    "    return mutacao_senha(individuo, LETRAS_POSSIVEIS)"
   ]
  },
  {
   "cell_type": "code",
   "execution_count": 4,
   "metadata": {},
   "outputs": [
    {
     "name": "stdout",
     "output_type": "stream",
     "text": [
      "Progresso da melhor senha já vista:\n",
      "debnebpaskieldnajdisvgtod - fitness: 153\n",
      "deunevqfmpbmjazslgqgvbrtc - fitness: 139\n",
      "chxudpkbuljcffrpjtqgvbrtf - fitness: 124\n",
      "chxudffbwtqheaepjtqgvbrtf - fitness: 118\n",
      "chxudffbwtqcffrpjtqgvbrtc - fitness: 111\n",
      "chxudffbwtqcffrpjtruvgtod - fitness: 101\n",
      "deunevqfmpqcffrpjtruvgtod - fitness: 97\n",
      "deunebpbwtqhearpjtruvgtod - fitness: 85\n",
      "deunebpbmpqcffrpjtruvgtod - fitness: 84\n",
      "dqunebpbwtqhearpjtouvgtod - fitness: 80\n",
      "deunebpfmpqhearpjtruvgtod - fitness: 75\n",
      "dqunebpbmpqhearpjtruvgtod - fitness: 71\n",
      "dqunebpfmpqhearpjtruvgtod - fitness: 67\n",
      "dqunebpfmpqhearpjtvuvgtod - fitness: 63\n",
      "dqunebpfmpqhearpjtvuvetod - fitness: 61\n",
      "dmunebpfmpthearpjtvuvetod - fitness: 60\n",
      "dmunebpfmpthbarpjtvuvetod - fitness: 57\n",
      "dmunebpfmpthbarpjtvuvctod - fitness: 55\n",
      "dmunebpfmpthbartjtvuvctod - fitness: 51\n",
      "dmunebpfmpthbartitvuvctod - fitness: 50\n",
      "dmunebpfmpthbartjtvuvcood - fitness: 48\n",
      "dmunebpfmpthbartitvuvcood - fitness: 47\n",
      "dmunebpfppthbartitvuvcood - fitness: 46\n",
      "dmunebpfppthbartitvutcood - fitness: 44\n",
      "dmuqebpfppthbartitvutcood - fitness: 41\n",
      "dpuqebpfppthbartitvutcood - fitness: 40\n",
      "dpuqebpfpptebartitvutcood - fitness: 37\n",
      "dpuqebpfoptebartitvutcood - fitness: 36\n",
      "dpuqebsfpptebartitvutcood - fitness: 34\n",
      "dpuqebsfpptebartirvutcood - fitness: 32\n",
      "dprqebsfpptebartitvutcood - fitness: 31\n",
      "dpuqebsfpptebartirvutaood - fitness: 30\n",
      "dpsqebsfpptebartirvutaood - fitness: 28\n",
      "dprqebsfpptebartirvutaood - fitness: 27\n",
      "dprqebsfpstebartirvutaood - fitness: 26\n",
      "dprqebsfpstebartirxutaood - fitness: 24\n",
      "dprqebsfpstebartirxttaood - fitness: 23\n",
      "dprqebsfpstebartirxttaold - fitness: 20\n",
      "dprqebsfpstebarthrxttaold - fitness: 19\n",
      "dprqebsfprtebarthrxttaold - fitness: 18\n",
      "dprqebsfortebarthrxttaold - fitness: 17\n",
      "dprqebsfortebartfrxttaold - fitness: 15\n",
      "dorqebsfortebartfrxttaold - fitness: 14\n",
      "dorqebsfortebastfrxrtaold - fitness: 13\n",
      "dorqebtfortebastfrxrtaold - fitness: 12\n",
      "dorqebtforsebastfrxrtaold - fitness: 11\n",
      "dorqebtforsebastfrxrtaole - fitness: 10\n",
      "corqebtforsebastfrxrtaole - fitness: 9\n",
      "corqebtforsebastfryrtaole - fitness: 8\n",
      "corqebthorsebastfryrtaole - fitness: 6\n",
      "correbthorsebastfryrtaole - fitness: 5\n",
      "correbthorsebastfrystaole - fitness: 4\n",
      "correbthorsebasterystaole - fitness: 3\n",
      "correcthorsebasterystaole - fitness: 2\n",
      "correcthorsebatterystaole - fitness: 1\n",
      "correcthorsebatterystaple - fitness: 0\n",
      "\n",
      "Melhor palpite da senha encontrado:\n",
      "correcthorfebatterystaple\n"
     ]
    }
   ],
   "source": [
    "populacao = cria_populacao_inicial(TAMANHO_POP, NUM_GENES)\n",
    "\n",
    "melhor_fitness_ja_visto = float(\"inf\")  # é assim que escrevemos infinito em python\n",
    "\n",
    "print(\"Progresso da melhor senha já vista:\")\n",
    "\n",
    "for n in range(NUM_GERACOES):    \n",
    "    \n",
    "    # Seleção\n",
    "    fitness = funcao_objetivo_pop(populacao)\n",
    "    populacao = funcao_selecao(populacao, fitness)\n",
    "    \n",
    "    # Cruzamento\n",
    "    pais = populacao[0::2]\n",
    "    maes = populacao[1::2]\n",
    "    \n",
    "    contador = 0\n",
    "    \n",
    "    for pai, mae in zip(pais, maes):\n",
    "        if rd.random() <= CHANCE_CRUZAMENTO:\n",
    "            filho1, filho2 = funcao_cruzamento(pai, mae)\n",
    "            populacao[contador] = filho1\n",
    "            populacao[contador + 1] = filho2\n",
    "        \n",
    "        contador = contador + 2   \n",
    "        \n",
    "    # Mutação\n",
    "    for n in range(len(populacao)):\n",
    "        if rd.random() <= CHANCE_MUTACAO:\n",
    "            individuo = populacao[n]\n",
    "            populacao[n] = funcao_mutacao(individuo)            \n",
    "            \n",
    "    # melhor individuo já visto até agora\n",
    "    fitness = funcao_objetivo_pop(populacao)\n",
    "    menor_fitness = min(fitness)\n",
    "    if menor_fitness < melhor_fitness_ja_visto:        \n",
    "        posicao = fitness.index(menor_fitness)\n",
    "        melhor_individuo_ja_visto = populacao[posicao]\n",
    "        melhor_fitness_ja_visto = menor_fitness\n",
    "        print(\"\".join(melhor_individuo_ja_visto), \"- fitness:\", melhor_fitness_ja_visto)\n",
    "\n",
    "print()\n",
    "print(\"Melhor palpite da senha encontrado:\")\n",
    "print(\"\".join(melhor_individuo_ja_visto))"
   ]
  },
  {
   "cell_type": "markdown",
   "metadata": {},
   "source": [
    "## Conclusão\n",
    "\n"
   ]
  },
  {
   "cell_type": "markdown",
   "metadata": {},
   "source": [
    "Concluo que o algoritmo é muito eficiente para encontrar uma senha, já que em todas as vezes que rodei o experimento ele chegou exatamente no mínimo da função, que é a senha exata. Diferentemente do experimento anterior, em que o algoritmo nunca chega na população máxima ([100, 100, 100, 100]). Além disso, a senha foi encontrada em uma quantidade relativamente pequena de gerações."
   ]
  },
  {
   "cell_type": "markdown",
   "metadata": {},
   "source": [
    "## Playground\n",
    "\n"
   ]
  }
 ],
 "metadata": {
  "kernelspec": {
   "display_name": "ilumpy",
   "language": "python",
   "name": "ilumpy"
  },
  "language_info": {
   "codemirror_mode": {
    "name": "ipython",
    "version": 3
   },
   "file_extension": ".py",
   "mimetype": "text/x-python",
   "name": "python",
   "nbconvert_exporter": "python",
   "pygments_lexer": "ipython3",
   "version": "3.9.7"
  },
  "org": null
 },
 "nbformat": 4,
 "nbformat_minor": 4
}
