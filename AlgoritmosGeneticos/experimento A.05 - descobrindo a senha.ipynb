{
 "cells": [
  {
   "cell_type": "markdown",
   "metadata": {},
   "source": [
    "Descobrindo a senha\n",
    "===================\n",
    "\n"
   ]
  },
  {
   "cell_type": "markdown",
   "metadata": {},
   "source": [
    "## Objetivo\n",
    "\n"
   ]
  },
  {
   "cell_type": "markdown",
   "metadata": {},
   "source": [
    "Usar um algoritmo genético para descobrir uma senha.\n",
    "\n"
   ]
  },
  {
   "cell_type": "markdown",
   "metadata": {},
   "source": [
    "## Descrição do problema\n",
    "\n"
   ]
  },
  {
   "cell_type": "markdown",
   "metadata": {},
   "source": [
    "Neste problema, a função objetivo deve saber a senha correta e quantificar de alguma maneira o quão perto ou longe os palpites estão da solução (veja que isso é algo que não temos no mundo real. Nenhum site irá te dizer se você está acertando ou errando seu palpite). O critério de parada deste problema é quando a senha for descoberta."
   ]
  },
  {
   "cell_type": "markdown",
   "metadata": {},
   "source": [
    "## Importações\n",
    "\n"
   ]
  },
  {
   "cell_type": "code",
   "execution_count": 1,
   "metadata": {},
   "outputs": [],
   "source": [
    "from funcoes import populacao_inicial_senha\n",
    "from funcoes import funcao_objetivo_pop_senha\n",
    "from funcoes import selecao_torneio_min\n",
    "from funcoes import cruzamento_ponto_simples as funcao_cruzamento\n",
    "from funcoes import mutacao_senha\n",
    "import random as rd"
   ]
  },
  {
   "cell_type": "markdown",
   "metadata": {},
   "source": [
    "## Códigos e discussão\n",
    "\n"
   ]
  },
  {
   "cell_type": "code",
   "execution_count": 2,
   "metadata": {},
   "outputs": [],
   "source": [
    "### CONSTANTES\n",
    "\n",
    "# relacionadas à busca\n",
    "TAMANHO_POP = 50\n",
    "CHANCE_CRUZAMENTO = 0.5\n",
    "CHANCE_MUTACAO = 0.05\n",
    "NUM_COMBATENTES_NO_TORNEIO = 3\n",
    "\n",
    "# relacionadas ao problema a ser resulvido\n",
    "SENHA = \"correcthorsebatterystaple\"\n",
    "LETRAS_POSSIVEIS = \"abcdefghijklmnopqrstuvwxyz\"\n",
    "NUM_GENES = len(SENHA)"
   ]
  },
  {
   "cell_type": "code",
   "execution_count": 3,
   "metadata": {},
   "outputs": [],
   "source": [
    "# funções locais (para não ter que colocar as variaveis locais no script)\n",
    "\n",
    "def cria_populacao_inicial(tamanho, tamanho_senha):\n",
    "    return populacao_inicial_senha(tamanho, tamanho_senha, LETRAS_POSSIVEIS)\n",
    "\n",
    "def funcao_objetivo_pop(populacao):\n",
    "    return funcao_objetivo_pop_senha(populacao, SENHA)\n",
    "\n",
    "def funcao_selecao(populacao, fitness):\n",
    "    return selecao_torneio_min(populacao, fitness, NUM_COMBATENTES_NO_TORNEIO)\n",
    "\n",
    "def funcao_mutacao(individuo):\n",
    "    return mutacao_senha(individuo, LETRAS_POSSIVEIS)"
   ]
  },
  {
   "cell_type": "markdown",
   "metadata": {},
   "source": [
    "Com o propósito de transformar a senha em números para comparação, utilizamos a função ord, que associa um valor único a cada caractere. Dessa forma conseguimos definir uma função objetivo que quantifica a \"diferença\" entre a senha candidato para a senha correta. Além disso, criamos uma mutação que simplesmente troca uma letra por outra, dentre as letras possíveis, e uma função cruzamento que divide duas senhas em algum ponto e junta-as para formar dois novos indivíduos. Para selecionar os melhores indivíduos, utilizamos uma função de \"torneio\", que sorteia n indivíduos e pega somente o melhor."
   ]
  },
  {
   "cell_type": "code",
   "execution_count": 4,
   "metadata": {},
   "outputs": [
    {
     "name": "stdout",
     "output_type": "stream",
     "text": [
      "Progresso da melhor senha já vista:\n",
      "qarnpgxgjiqlaxtveuxftemmv - fitness: 143\n",
      "dxrnpgxgjiqlaxtveuxftemmv - fitness: 125\n",
      "dernpgxgjiqllmoveuxftemme - fitness: 112\n",
      "eipllctgjiqlaxtveuxftemme - fitness: 98\n",
      "eipllctmoiqlaxtveuxftemme - fitness: 97\n",
      "eipllctgjiqlactveuxftemme - fitness: 77\n",
      "eipllctgjiqlactveuxfteome - fitness: 75\n",
      "eipllctmouwpactveuxfteome - fitness: 74\n",
      "eipllctgouwpactveuxfteome - fitness: 70\n",
      "eisllctgouwpactveuxfteome - fitness: 69\n",
      "eipllctgouwnactveuxfteome - fitness: 68\n",
      "empllctgouwnactveuxfteome - fitness: 64\n",
      "empllctgouwnactvepxfteome - fitness: 63\n",
      "empllctgouwnactvepxmteome - fitness: 56\n",
      "empplctgouwnactvepxmteoje - fitness: 53\n",
      "empplctgouwnactvepxmteome - fitness: 52\n",
      "emrplctgouwnactvepxmteome - fitness: 50\n",
      "emrplctgouwnactvepxwteome - fitness: 48\n",
      "emrplctgouwdactvepxmteome - fitness: 42\n",
      "emrplctgouwdactvepxwteome - fitness: 40\n",
      "emrpactgouwdactvepxwteome - fitness: 37\n",
      "emrpactgouwdacttepxwteome - fitness: 35\n",
      "emrpactgouwdacttepxpteome - fitness: 34\n",
      "emrpactgoutdacttepxpteome - fitness: 31\n",
      "emrpactgoutdacttepxptepme - fitness: 30\n",
      "emrpactgoqtdacttepxptepme - fitness: 28\n",
      "emrpactgoqtdacttepxptdpme - fitness: 27\n",
      "emrsactgoqtdacttepxptdpme - fitness: 26\n",
      "emrsactgoqtdacttepxptdple - fitness: 25\n",
      "emrsactgoqtdabtteqxptdpme - fitness: 24\n",
      "emrractgoqtdabtteqxptdpme - fitness: 23\n",
      "cmrractgoqtdabtteqxptdpme - fitness: 21\n",
      "cmrractgoqtdabtteqxttdpme - fitness: 19\n",
      "cmrractgoqtdabtteqyttdpme - fitness: 18\n",
      "cmrractgoqteabtteqyttdpme - fitness: 17\n",
      "cmrrgctgoqteabtteqyttdpme - fitness: 15\n",
      "cmrrgctgoqteabtteqyttcpme - fitness: 14\n",
      "cmrrfctgoqteabtteqyttcpme - fitness: 13\n",
      "cmrrfctgoqteabtteryttcpme - fitness: 12\n",
      "cmrrfctgoqteabtteryttbpme - fitness: 11\n",
      "cmrrfcthoqteabtteryttbpme - fitness: 10\n",
      "cprrfctgoqteabtteryttapme - fitness: 9\n",
      "cprrfctgoqteabtterystapme - fitness: 8\n",
      "cprrfctgoqteabtterystaple - fitness: 7\n",
      "corrfctgoqteabtterystaple - fitness: 6\n",
      "corrfctgoqteaatterystaple - fitness: 5\n",
      "corrfctgoqtebatterystaple - fitness: 4\n",
      "corrfctgortebatterystaple - fitness: 3\n",
      "corrfctgorsebatterystaple - fitness: 2\n",
      "corrfcthorsebatterystaple - fitness: 1\n",
      "correcthorsebatterystaple - fitness: 0\n",
      "\n",
      "Melhor palpite da senha encontrado:\n",
      "correcthorsebatterystaple\n",
      "\n",
      "Para acertar a senha levou 1144 gerações.\n"
     ]
    }
   ],
   "source": [
    "populacao = cria_populacao_inicial(TAMANHO_POP, NUM_GENES)\n",
    "\n",
    "melhor_fitness_ja_visto = float(\"inf\")  # é assim que escrevemos infinito em python\n",
    "\n",
    "print(\"Progresso da melhor senha já vista:\")\n",
    "\n",
    "numero_geracoes = 0\n",
    "\n",
    "while melhor_fitness_ja_visto != 0:\n",
    "    \n",
    "    # Seleção\n",
    "    fitness = funcao_objetivo_pop(populacao)\n",
    "    populacao = funcao_selecao(populacao, fitness)\n",
    "    \n",
    "    # Cruzamento\n",
    "    pais = populacao[0::2]\n",
    "    maes = populacao[1::2]\n",
    "    \n",
    "    contador = 0\n",
    "    \n",
    "    for pai, mae in zip(pais, maes):\n",
    "        if rd.random() <= CHANCE_CRUZAMENTO:\n",
    "            filho1, filho2 = funcao_cruzamento(pai, mae)\n",
    "            populacao[contador] = filho1\n",
    "            populacao[contador + 1] = filho2\n",
    "        \n",
    "        contador = contador + 2   \n",
    "        \n",
    "    # Mutação\n",
    "    for n in range(len(populacao)):\n",
    "        if rd.random() <= CHANCE_MUTACAO:\n",
    "            individuo = populacao[n]\n",
    "            populacao[n] = funcao_mutacao(individuo)            \n",
    "            \n",
    "    # melhor individuo já visto até agora\n",
    "    fitness = funcao_objetivo_pop(populacao)\n",
    "    menor_fitness = min(fitness)\n",
    "    if menor_fitness < melhor_fitness_ja_visto:        \n",
    "        posicao = fitness.index(menor_fitness)\n",
    "        melhor_individuo_ja_visto = populacao[posicao]\n",
    "        melhor_fitness_ja_visto = menor_fitness\n",
    "        print(\"\".join(melhor_individuo_ja_visto), \"- fitness:\", melhor_fitness_ja_visto)\n",
    "    \n",
    "    numero_geracoes = numero_geracoes + 1\n",
    "\n",
    "print()\n",
    "print(\"Melhor palpite da senha encontrado:\")\n",
    "print(\"\".join(melhor_individuo_ja_visto))\n",
    "print()\n",
    "print(f'Para acertar a senha levou {numero_geracoes} gerações.')"
   ]
  },
  {
   "cell_type": "markdown",
   "metadata": {},
   "source": [
    "## Conclusão\n",
    "\n"
   ]
  },
  {
   "cell_type": "markdown",
   "metadata": {},
   "source": [
    "Concluo que o algoritmo é muito eficiente para encontrar uma senha, já que em todas as vezes que rodei o experimento ele chegou exatamente no mínimo da função, que é a senha exata. Dessa vez acrescentamos o \"hall da fama\", que nos permite olhar para os melhores indivíduos já vistos, ao invés de toda a população, e isso tornou o algoritmo muito melhor em termos de encontrar a senha correta de maneira exata."
   ]
  }
 ],
 "metadata": {
  "kernelspec": {
   "display_name": "ilumpy",
   "language": "python",
   "name": "ilumpy"
  },
  "language_info": {
   "codemirror_mode": {
    "name": "ipython",
    "version": 3
   },
   "file_extension": ".py",
   "mimetype": "text/x-python",
   "name": "python",
   "nbconvert_exporter": "python",
   "pygments_lexer": "ipython3",
   "version": "3.9.7"
  },
  "org": null
 },
 "nbformat": 4,
 "nbformat_minor": 4
}
