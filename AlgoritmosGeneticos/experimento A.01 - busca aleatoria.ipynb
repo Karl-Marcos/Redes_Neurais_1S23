{
 "cells": [
  {
   "cell_type": "markdown",
   "metadata": {},
   "source": [
    "Busca aleatória\n",
    "===============\n",
    "\n"
   ]
  },
  {
   "cell_type": "markdown",
   "metadata": {},
   "source": [
    "## Introdução\n",
    "\n"
   ]
  },
  {
   "cell_type": "markdown",
   "metadata": {},
   "source": [
    "Uma forma simples de se encontrar uma solução para um `problema de otimização` é realizando uma `busca aleatória`. A busca aleatória, como o próprio nome sugere, é um algoritmo onde um certo `espaço de busca` é definido de onde sorteamos `candidatos` de soluções para o problema.\n",
    "\n",
    "Diferentemente de outros algoritmos de otimização, a busca aleatória não requer que a `função objetivo` seja diferenciável nem contínua.\n",
    "\n",
    "Um algoritmo de busca aleatória segue os seguintes passos:\n",
    "\n",
    "1.  Um espaço de busca é definido\n",
    "\n",
    "2.  Um candidato $x$ dentro do espaço de busca é sorteado aleatoriamente\n",
    "\n",
    "3.  Calculamos o resultado da função objetivo para o candidato $x$\n",
    "\n",
    "4.  Se o critério de parada for atingido, encerrar o algoritmo e retornar ao usuário o candidato que teve melhor resultado durante a busca. Do contrário, retorne ao passo 2\n",
    "\n"
   ]
  },
  {
   "cell_type": "markdown",
   "metadata": {},
   "source": [
    "## Reflexões\n",
    "\n"
   ]
  },
  {
   "cell_type": "markdown",
   "metadata": {},
   "source": [
    "Você diria que o algoritmo de busca aleatória é determinístico ou probabilístico?\n",
    "\n",
    "Em quais problemas de otimização você acredita que este algoritmo seja uma boa escolha?\n",
    "\n",
    "Em quais problemas de otimização você acredita que este algoritmo seja uma má escolha?\n",
    "\n"
   ]
  },
  {
   "cell_type": "markdown",
   "metadata": {},
   "source": [
    "## Objetivo\n",
    "\n"
   ]
  },
  {
   "cell_type": "markdown",
   "metadata": {},
   "source": [
    "Encontrar uma solução para o problema das caixas binárias usando o algoritmo de busca aleatória. Considere 4 caixas.\n",
    "\n"
   ]
  },
  {
   "cell_type": "markdown",
   "metadata": {},
   "source": [
    "## Descrição do problema\n",
    "\n"
   ]
  },
  {
   "cell_type": "markdown",
   "metadata": {},
   "source": [
    "O problema das caixas binárias é simples: nós temos um certo número de caixas e cada uma pode conter um valor do conjunto $\\{0, 1\\}$. O objetivo é encontrar uma combinação de caixas onde a soma dos valores contidos dentro delas é máximo.\n",
    "\n",
    "Como todo problema computacional, um dos desafios é &ldquo;traduzir&rdquo; o problema dado em estruturas computacionais.\n",
    "\n"
   ]
  },
  {
   "cell_type": "markdown",
   "metadata": {},
   "source": [
    "## Importações\n",
    "\n"
   ]
  },
  {
   "cell_type": "code",
   "execution_count": 11,
   "metadata": {},
   "outputs": [],
   "source": [
    "import random as rd"
   ]
  },
  {
   "cell_type": "markdown",
   "metadata": {},
   "source": [
    "## Códigos e discussão\n",
    "\n"
   ]
  },
  {
   "cell_type": "code",
   "execution_count": 12,
   "metadata": {},
   "outputs": [],
   "source": [
    "# Funções\n",
    "def gene_cb():\n",
    "    '''Gera um gene binario para o problema das caixas\n",
    "    \n",
    "    Return:\n",
    "        Valor zero ou um\n",
    "    '''\n",
    "    lista = [0,1]\n",
    "    return rd.choice(lista)\n",
    "\n",
    "def individuo_cb(n):\n",
    "    '''gera um individuo para o problemas de caixas\n",
    "    \n",
    "    Args:\n",
    "        n: numero de genes\n",
    "    \n",
    "    Return:\n",
    "        Uma lista com n genes, cada um com um valor 0 ou 1\n",
    "    '''\n",
    "    \n",
    "    individuo = []\n",
    "    \n",
    "    for i in range(n):\n",
    "        individuo.append(gene_cb())\n",
    "        \n",
    "    return individuo\n",
    "\n",
    "def funcao_objetivo_cb(individuo):\n",
    "    ''' Computa a função objetivo no problema das caixas binarias\n",
    "    \n",
    "    Args:\n",
    "        individuo: Lista contendo os genes\n",
    "        \n",
    "    Return:\n",
    "        Soma dos genes do individuo\n",
    "    '''\n",
    "    s = 0\n",
    "    for i in individuo:\n",
    "        s = s+i\n",
    "        \n",
    "    return s"
   ]
  },
  {
   "cell_type": "code",
   "execution_count": 13,
   "metadata": {},
   "outputs": [],
   "source": [
    "# Constantes\n",
    "\n",
    "n_candidatos = 8\n",
    "n_genes = 4"
   ]
  },
  {
   "cell_type": "code",
   "execution_count": 21,
   "metadata": {},
   "outputs": [
    {
     "name": "stdout",
     "output_type": "stream",
     "text": [
      "O melhor candidato foi [1, 1, 1, 1] cuja função objetivo é 4\n"
     ]
    }
   ],
   "source": [
    "# Execução\n",
    "\n",
    "dic = {}\n",
    "for n in range(n_candidatos):\n",
    "    candidato = individuo_cb(n_genes)\n",
    "    fobj = funcao_objetivo_cb(candidato)\n",
    "    \n",
    "    #print(candidato, fobj)\n",
    "    dic[str(candidato)] = fobj\n",
    "    \n",
    "print(f'O melhor candidato foi {max(dic)} cuja função objetivo é {dic[max(dic)]}')"
   ]
  },
  {
   "cell_type": "markdown",
   "metadata": {},
   "source": [
    "## Conclusão\n",
    "\n"
   ]
  },
  {
   "cell_type": "markdown",
   "metadata": {},
   "source": [
    "Foi possível implementar o algoritmo de busca aleatória de forma satisfatória, observamos que é um algoritmo probabilístico, ou seja, nem sempre o resultado vai ser de fato o melhor possível. Nesse caso, quanto maior for o numero de candidatos, maior a probabilidade do resultado ser de fato o melhor."
   ]
  },
  {
   "cell_type": "markdown",
   "metadata": {},
   "source": [
    "## Playground\n",
    "\n"
   ]
  }
 ],
 "metadata": {
  "kernelspec": {
   "display_name": "ilumpy",
   "language": "python",
   "name": "ilumpy"
  },
  "language_info": {
   "codemirror_mode": {
    "name": "ipython",
    "version": 3
   },
   "file_extension": ".py",
   "mimetype": "text/x-python",
   "name": "python",
   "nbconvert_exporter": "python",
   "pygments_lexer": "ipython3",
   "version": "3.9.7"
  },
  "org": null
 },
 "nbformat": 4,
 "nbformat_minor": 4
}
