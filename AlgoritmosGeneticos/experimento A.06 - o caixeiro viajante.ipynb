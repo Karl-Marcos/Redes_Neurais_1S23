{
 "cells": [
  {
   "cell_type": "markdown",
   "metadata": {},
   "source": [
    "Caixeiro viajante\n",
    "=================\n",
    "\n"
   ]
  },
  {
   "cell_type": "markdown",
   "metadata": {},
   "source": [
    "## Introdução\n",
    "\n"
   ]
  },
  {
   "cell_type": "markdown",
   "metadata": {},
   "source": [
    "Até agora, sempre que nós aplicamos os operadores de `cruzamento` ou de `mutação` nós não nos preocupamos se o indivíduo gerado por estes processo era um `indivíduo válido`. Um indivíduo válido é aquele que representa uma solução possível e bem formulada para o problema em questão.\n",
    "\n",
    "Por exemplo, no problema das caixas binárias, [1, 0, 0, 1] é um indivíduo válido para o caso de termos 4 caixas. Um exemplo de `indivíduo inválido` para este mesmo problema seria [1, 0, 0, a], pois um dos genes está assumindo um valor fora do domínio. Outro exemplo de indivíduo inválido poderia ser [1, 1, 0], pois é um indivíduo com apenas 3 genes, sendo que o esperado eram 4 genes.\n",
    "\n",
    "Neste experimento nós veremos estratégias para evitar que indivíduos inválidos sejam obtidos quando usamos os operadores de cruzamento e de mutação. No notebook seguinte veremos como aplicar uma penalidade para indivíduos inválidos que forem gerados durante uma busca genética com restrições.\n",
    "\n"
   ]
  },
  {
   "cell_type": "markdown",
   "metadata": {},
   "source": [
    "## Objetivo\n",
    "\n"
   ]
  },
  {
   "cell_type": "markdown",
   "metadata": {},
   "source": [
    "Encontrar uma solução para o problema do caixeiro viajante. Considere que ele irá visitar 5 cidades, pode iniciar sua viagem por qualquer uma destas cidades e deve retornar à cidade de início. Durante seu trajeto, não pode visitar a mesma cidade duas vezes (única exceção é a cidade inicial).\n",
    "\n"
   ]
  },
  {
   "cell_type": "markdown",
   "metadata": {},
   "source": [
    "## Descrição do problema\n",
    "\n"
   ]
  },
  {
   "cell_type": "markdown",
   "metadata": {},
   "source": [
    "O problema consiste em descobrir a rota de menor distância entre $n$ pontos no plano cartesiano (ou seja, $n$ pontos com coordenadas $(x,y)$). A rota pode se iniciar em qualquer um dos pontos disponíveis e deve terminar no ponto inicial, visitando todos os demais pontos apenas uma vez. Considere que a rota entre um ponto e outro é a linha reta que liga os dois pontos."
   ]
  },
  {
   "cell_type": "markdown",
   "metadata": {
    "tags": []
   },
   "source": [
    "## Importações\n",
    "\n"
   ]
  },
  {
   "cell_type": "code",
   "execution_count": 1,
   "metadata": {},
   "outputs": [],
   "source": [
    "import random\n",
    "import matplotlib.pyplot as plt\n",
    "from itertools import permutations\n",
    "import networkx as nx\n",
    "from funcoes import cria_cidades\n",
    "from funcoes import populacao_inicial_cv\n",
    "from funcoes import funcao_objetivo_cv as funcao_objetivo_individuo\n",
    "from funcoes import funcao_objetivo_pop_cv\n",
    "from funcoes import selecao_torneio_min\n",
    "from funcoes import cruzamento_ordenado as funcao_cruzamento\n",
    "from funcoes import mutacao_de_troca as funcao_mutacao"
   ]
  },
  {
   "cell_type": "markdown",
   "metadata": {},
   "source": [
    "## Códigos e discussão\n",
    "\n"
   ]
  },
  {
   "cell_type": "code",
   "execution_count": 2,
   "metadata": {},
   "outputs": [],
   "source": [
    "### CONSTANTES\n",
    "\n",
    "# relacionadas à busca\n",
    "TAMANHO_POP = 50\n",
    "CHANCE_CRUZAMENTO = 0.5\n",
    "CHANCE_MUTACAO = 0.05\n",
    "NUM_COMBATENTES_NO_TORNEIO = 3\n",
    "NUM_GERACOES = 150\n",
    "\n",
    "# relacionadas ao problema a ser resolvido\n",
    "CIDADES = cria_cidades(10)\n",
    "NUM_GENES = len(CIDADES)"
   ]
  },
  {
   "cell_type": "code",
   "execution_count": 3,
   "metadata": {},
   "outputs": [],
   "source": [
    "# funções locais (para não ter que colocar as variaveis locais no script\n",
    "def cria_populacao_inicial(tamanho, nada):\n",
    "    return populacao_inicial_cv(tamanho, CIDADES)\n",
    "\n",
    "def funcao_objetivo_pop(populacao):\n",
    "    return funcao_objetivo_pop_cv(populacao, CIDADES)\n",
    "\n",
    "def funcao_selecao(populacao, fitness):\n",
    "    return selecao_torneio_min(populacao, fitness, NUM_COMBATENTES_NO_TORNEIO)"
   ]
  },
  {
   "cell_type": "code",
   "execution_count": 4,
   "metadata": {},
   "outputs": [],
   "source": [
    "# Busca por algoritmo genético\n",
    "\n",
    "populacao = cria_populacao_inicial(TAMANHO_POP, NUM_GENES)\n",
    "\n",
    "melhor_fitness_ja_visto = float(\"inf\")  # é assim que escrevemos infinito em python\n",
    "\n",
    "lista_melhor_fitness = []\n",
    "\n",
    "for n in range(NUM_GERACOES):\n",
    "    \n",
    "    # Seleção\n",
    "    fitness = funcao_objetivo_pop(populacao)\n",
    "    populacao = funcao_selecao(populacao, fitness)\n",
    "    \n",
    "    # Cruzamento\n",
    "    pais = populacao[0::2]\n",
    "    maes = populacao[1::2]\n",
    "    \n",
    "    contador = 0\n",
    "    \n",
    "    for pai, mae in zip(pais, maes):\n",
    "        if random.random() <= CHANCE_CRUZAMENTO:\n",
    "            filho1, filho2 = funcao_cruzamento(pai, mae)\n",
    "            populacao[contador] = filho1\n",
    "            populacao[contador + 1] = filho2\n",
    "        \n",
    "        contador = contador + 2   \n",
    "        \n",
    "    # Mutação\n",
    "    for n in range(len(populacao)):\n",
    "        if random.random() <= CHANCE_MUTACAO:\n",
    "            individuo = populacao[n]\n",
    "            populacao[n] = funcao_mutacao(individuo)            \n",
    "            \n",
    "    # melhor individuo já visto até agora\n",
    "    fitness = funcao_objetivo_pop(populacao)\n",
    "    menor_fitness = min(fitness)\n",
    "    if menor_fitness < melhor_fitness_ja_visto:        \n",
    "        posicao = fitness.index(menor_fitness)\n",
    "        melhor_individuo_ja_visto = populacao[posicao]\n",
    "        melhor_fitness_ja_visto = menor_fitness    \n",
    "    lista_melhor_fitness.append(melhor_fitness_ja_visto)"
   ]
  },
  {
   "cell_type": "code",
   "execution_count": 5,
   "metadata": {},
   "outputs": [],
   "source": [
    "# Busca testando todas as permutações\n",
    "\n",
    "melhor_fitness_ever = float(\"inf\")\n",
    "\n",
    "# testando todas as permutações possíveis\n",
    "for caminho in permutations(list(CIDADES.keys())):\n",
    "    distancia = funcao_objetivo_individuo(caminho, CIDADES)\n",
    "    if distancia < melhor_fitness_ever:\n",
    "        melhor_fitness_ever = distancia\n",
    "        melhor_resposta_ever = caminho"
   ]
  },
  {
   "cell_type": "code",
   "execution_count": 6,
   "metadata": {},
   "outputs": [
    {
     "name": "stdout",
     "output_type": "stream",
     "text": [
      "\n",
      "Melhor individuo obtido por algoritmos genéticos:\n",
      "['Cidade 8', 'Cidade 4', 'Cidade 1', 'Cidade 2', 'Cidade 0', 'Cidade 9', 'Cidade 3', 'Cidade 6', 'Cidade 5', 'Cidade 7'] com distância: 2.682430179547972\n",
      "\n",
      "Melhor individuo obtido por busca exaustiva:\n",
      "('Cidade 0', 'Cidade 9', 'Cidade 3', 'Cidade 6', 'Cidade 5', 'Cidade 7', 'Cidade 8', 'Cidade 4', 'Cidade 1', 'Cidade 2') com distância: 2.682430179547972\n"
     ]
    }
   ],
   "source": [
    "# Checando os resultados\n",
    "\n",
    "print()\n",
    "print(\"Melhor individuo obtido por algoritmos genéticos:\")\n",
    "print(melhor_individuo_ja_visto, \"com distância:\", melhor_fitness_ja_visto)\n",
    "\n",
    "print()\n",
    "print(\"Melhor individuo obtido por busca exaustiva:\")\n",
    "print(melhor_resposta_ever, \"com distância:\", melhor_fitness_ever)"
   ]
  },
  {
   "cell_type": "code",
   "execution_count": 7,
   "metadata": {},
   "outputs": [
    {
     "data": {
      "text/plain": [
       "<matplotlib.legend.Legend at 0x278805a4250>"
      ]
     },
     "execution_count": 7,
     "metadata": {},
     "output_type": "execute_result"
    },
    {
     "data": {
      "image/png": "[encoded data removed]",
      "text/plain": [
       "<Figure size 432x288 with 1 Axes>"
      ]
     },
     "metadata": {
      "needs_background": "light"
     },
     "output_type": "display_data"
    }
   ],
   "source": [
    "fig, ax = plt.subplots(1, 1)\n",
    "ax.plot(range(NUM_GERACOES), lista_melhor_fitness, c=\"b\")\n",
    "ax.axhline(y=melhor_fitness_ever, c=\"r\", linestyle=\"--\", label=\"Menor distância possível\")\n",
    "ax.set_xlabel(\"Geração\")\n",
    "ax.set_ylabel(\"Distância melhor caminho\")\n",
    "ax.set_title(\"Menor distância já vista\", fontsize=16)\n",
    "ax.legend()"
   ]
  },
  {
   "cell_type": "code",
   "execution_count": 8,
   "metadata": {},
   "outputs": [
    {
     "data": {
      "image/png": "[encoded data removed]",
      "text/plain": [
       "<Figure size 432x288 with 1 Axes>"
      ]
     },
     "metadata": {},
     "output_type": "display_data"
    }
   ],
   "source": [
    "# Representação gráfica:\n",
    "g = nx.Graph()\n",
    "for i in list(CIDADES.keys()):\n",
    "    g.add_node(i)\n",
    "k = -1\n",
    "while k < len(melhor_individuo_ja_visto)-1:\n",
    "    g.add_edge(melhor_individuo_ja_visto[k], melhor_individuo_ja_visto[k+1])\n",
    "    k+=1\n",
    "vertices = CIDADES.keys()\n",
    "pos = nx.spring_layout(g,pos=CIDADES, fixed = vertices)\n",
    "nx.draw_networkx(g,pos,node_color = 'y')"
   ]
  },
  {
   "cell_type": "markdown",
   "metadata": {},
   "source": [
    "Para resolver o problema, criamos um dicionário contendo as cidades e suas posições, e os indivíduos foram gerados a partir de uma função que sorteia possíveis ordens de visita das cidades. A função de mutação precisou ser adaptada para evitar a repetição de elementos, assim como o cruzamento não podia alterar os genes, mas apenas a ordem deles.\n",
    "Para calcular a função objetivo, foi usada a distância percorrida no trajeto que corresponde a um indivíduo. A função de seleção usada foi a mesma que a do problema da senha.\n",
    "\n",
    "Vale ressaltar que para n cidades, temos $(n-1)!$ permutações circulares, e cada uma possui dois sentidos opostos, logo o espaço de busca possui $\\frac{(n-1)!}{2}$ indivíduos possíveis. No entanto, da maneira como implementamos, estamos considerando todas as permutações de n elementos, o nosso código está olhando para um espaço de n! indivíduos. Ou seja, no caso de 10 cidades, por exemplo, estamos olhando para um espaço que é 20 vezes maior que o necessário, portanto o código poderia ser modificado para otimizar isso."
   ]
  },
  {
   "cell_type": "markdown",
   "metadata": {},
   "source": [
    "## Conclusão\n",
    "\n"
   ]
  },
  {
   "cell_type": "markdown",
   "metadata": {},
   "source": [
    "Concluo que o algoritmo genético foi muito eficiente para encontrar soluções para o problema do caixeiro viajante. Com 10 cidades apenas 150 gerações, observei que o algoritmo praticamente sempre chega ao melhor caminho. Um pensamento que esse experimento sucitou que eu não havia considerando antes é que, em alguns problemas, a maneira como estruturamos os dados pode ser redundante, fazendo com que percorremos um espaço de busca maior do que o necessário, como expliquei na discussão do experimento. Isso é algo que vou ter em mente nos experimentos futuros."
   ]
  }
 ],
 "metadata": {
  "kernelspec": {
   "display_name": "ilumpy",
   "language": "python",
   "name": "ilumpy"
  },
  "language_info": {
   "codemirror_mode": {
    "name": "ipython",
    "version": 3
   },
   "file_extension": ".py",
   "mimetype": "text/x-python",
   "name": "python",
   "nbconvert_exporter": "python",
   "pygments_lexer": "ipython3",
   "version": "3.9.7"
  },
  "org": null
 },
 "nbformat": 4,
 "nbformat_minor": 4
}
