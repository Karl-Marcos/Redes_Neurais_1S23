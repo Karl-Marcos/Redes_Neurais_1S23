{
 "cells": [
  {
   "cell_type": "markdown",
   "metadata": {
    "tags": []
   },
   "source": [
    "Problema das caixas não-binárias\n",
    "================================\n",
    "\n"
   ]
  },
  {
   "cell_type": "markdown",
   "metadata": {},
   "source": [
    "## Objetivo\n",
    "\n"
   ]
  },
  {
   "cell_type": "markdown",
   "metadata": {},
   "source": [
    "Encontrar uma solução para o problema das caixas não-binárias usando um algoritmo genético. Considere 4 caixas. Considere que cada caixa pode ter um valor inteiro dentro do conjunto [0, 100].\n",
    "\n"
   ]
  },
  {
   "cell_type": "markdown",
   "metadata": {},
   "source": [
    "## Descrição do problema\n",
    "\n"
   ]
  },
  {
   "cell_type": "markdown",
   "metadata": {},
   "source": [
    "O problema das caixas não-binárias é simples: nós temos um certo número de caixas e cada uma pode conter um número inteiro. O objetivo é encontrar uma combinação de caixas onde a soma dos valores contidos dentro delas é máximo.\n",
    "\n"
   ]
  },
  {
   "cell_type": "markdown",
   "metadata": {
    "tags": []
   },
   "source": [
    "## Importações\n",
    "\n"
   ]
  },
  {
   "cell_type": "code",
   "execution_count": 1,
   "metadata": {},
   "outputs": [],
   "source": [
    "from funcoes import populacao_cnb\n",
    "from funcoes import funcao_objetivo_pop_cb as funcao_objetivo_pop\n",
    "from funcoes import selecao_roleta_max as funcao_selecao\n",
    "from funcoes import cruzamento_ponto_simples as cruzamento\n",
    "from funcoes import mutacao_cnb\n",
    "import random as rd\n",
    "import numpy as np\n",
    "import matplotlib.pyplot as plt"
   ]
  },
  {
   "cell_type": "markdown",
   "metadata": {},
   "source": [
    "## Códigos e discussão\n",
    "\n"
   ]
  },
  {
   "cell_type": "code",
   "execution_count": 2,
   "metadata": {},
   "outputs": [],
   "source": [
    "### CONSTANTES\n",
    "\n",
    "# relacionadas à busca\n",
    "TAMANHO_POP = 5\n",
    "NUM_GERACOES = 200\n",
    "CHANCE_CRUZAMENTO = 0.5\n",
    "CHANCE_MUTACAO = 0.05\n",
    "\n",
    "# relacionadas ao problema a ser resulvido\n",
    "NUM_GENES = 4\n",
    "VALOR_MAX_CAIXA = 100"
   ]
  },
  {
   "cell_type": "code",
   "execution_count": 3,
   "metadata": {},
   "outputs": [],
   "source": [
    "# funções locais\n",
    "\n",
    "def cria_populacao_inicial(tamanho, n_genes):\n",
    "    return populacao_cnb(tamanho, n_genes, VALOR_MAX_CAIXA)\n",
    "\n",
    "def mutacao(individuo):\n",
    "    return mutacao_cnb(individuo, VALOR_MAX_CAIXA)"
   ]
  },
  {
   "cell_type": "code",
   "execution_count": 4,
   "metadata": {},
   "outputs": [
    {
     "name": "stdout",
     "output_type": "stream",
     "text": [
      "População original:\n",
      "\n",
      "[[65, 57, 0, 97], [95, 79, 81, 16], [13, 22, 24, 81], [97, 65, 11, 49], [18, 21, 12, 26]]\n",
      "\n",
      "População final:\n",
      "\n",
      "[[78, 76, 79, 81], [78, 76, 64, 81], [78, 76, 79, 81], [78, 76, 79, 81], [78, 76, 79, 81]]\n",
      "\n"
     ]
    },
    {
     "data": {
      "text/plain": [
       "Text(0.5, 1.0, 'Fitness em função da geração')"
      ]
     },
     "execution_count": 4,
     "metadata": {},
     "output_type": "execute_result"
    },
    {
     "data": {
      "image/png": "[encoded data removed]",
      "text/plain": [
       "<Figure size 432x288 with 1 Axes>"
      ]
     },
     "metadata": {
      "needs_background": "light"
     },
     "output_type": "display_data"
    }
   ],
   "source": [
    "populacao = cria_populacao_inicial(TAMANHO_POP, NUM_GENES)\n",
    "media_fitness = [np.mean(funcao_objetivo_pop(populacao))]\n",
    "\n",
    "print(\"População original:\")\n",
    "print()\n",
    "print(populacao)\n",
    "print()\n",
    "\n",
    "for _ in range(NUM_GERACOES):\n",
    "    # Fazendo a seleção:\n",
    "    fitness = funcao_objetivo_pop(populacao)\n",
    "    populacao = funcao_selecao(populacao, fitness)\n",
    "\n",
    "    # Fazendo o cruzamento:\n",
    "    pais = populacao[0::2]\n",
    "    maes = populacao[1::2]\n",
    "\n",
    "    contador = 0\n",
    "    for pai, mae in zip(pais, maes):\n",
    "        if rd.random() < CHANCE_CRUZAMENTO:\n",
    "            # vai cruzar :)\n",
    "            filho1, filho2 = cruzamento(pai, mae)\n",
    "            populacao[contador] = filho1\n",
    "            populacao[contador + 1] = filho2\n",
    "            contador = contador + 2\n",
    "    for n in range(len(populacao)):\n",
    "        if rd.random() <= CHANCE_MUTACAO:\n",
    "            individuo = populacao[n]\n",
    "            populacao[n] = mutacao(individuo)\n",
    "    fitness_depois = funcao_objetivo_pop(populacao)\n",
    "    media_fitness.append(np.mean(fitness_depois))\n",
    "print(\"População final:\")\n",
    "print()\n",
    "print(populacao)\n",
    "print()\n",
    "\n",
    "fig, ax = plt.subplots(1, 1)\n",
    "ax.plot(range(len(media_fitness)), media_fitness, c = 'r')\n",
    "ax.axhline(y=400, c=\"r\", linestyle=\"--\", label=\"Melhor fitness possível\")\n",
    "ax.set_xlabel(\"Geração\")\n",
    "ax.set_ylabel(\"Fitness Médio\")\n",
    "ax.set_title(\"Fitness em função da geração\", fontsize = 16)"
   ]
  },
  {
   "cell_type": "markdown",
   "metadata": {},
   "source": [
    "Como conclusão podemos destacar o fato de que, em geral, o fitness da população tendeu a aumentar com o tempo. Porém, também percebemos que há muitas variações abruptas do fitness, que podem ser positivas ou negativas. Isso também torna o experimento menos reprodutível, já que rodando o experimento mais de uma vez vemos pelo grafico que ele se comporta de maneira muito diferente."
   ]
  },
  {
   "cell_type": "markdown",
   "metadata": {},
   "source": [
    "## Análise estatística\n",
    "\n"
   ]
  },
  {
   "cell_type": "code",
   "execution_count": 5,
   "metadata": {
    "tags": []
   },
   "outputs": [],
   "source": [
    "def histograma(x, density=False, c = 'r', bins = 'sqrt', save = False, legendas = ['x', 'Frequência']):\n",
    "\n",
    "    fig,axh = plt.subplots(1,1)\n",
    "    H = plt.hist(x,bins = bins, color = c,density = density)\n",
    "    axh.set_ylabel(legendas[1],fontsize=12)\n",
    "    axh.set_xlabel(legendas[0],fontsize=12)\n",
    "    if save != False:\n",
    "        plt.savefig(save, dpi=200)"
   ]
  },
  {
   "cell_type": "code",
   "execution_count": 6,
   "metadata": {
    "tags": []
   },
   "outputs": [
    {
     "name": "stdout",
     "output_type": "stream",
     "text": [
      "O fitness médio da população final é: 214.06000000000003 +/- 2.154358837334208\n"
     ]
    },
    {
     "data": {
      "image/png": "[encoded data removed]",
      "text/plain": [
       "<Figure size 432x288 with 1 Axes>"
      ]
     },
     "metadata": {
      "needs_background": "light"
     },
     "output_type": "display_data"
    }
   ],
   "source": [
    "def teste():\n",
    "\n",
    "    populacao = cria_populacao_inicial(TAMANHO_POP, NUM_GENES)\n",
    "    media_fitness = [np.mean(funcao_objetivo_pop(populacao))]\n",
    "    for _ in range(NUM_GERACOES):\n",
    "        # Fazendo a seleção:\n",
    "        fitness = funcao_objetivo_pop(populacao)\n",
    "        populacao = funcao_selecao(populacao, fitness)\n",
    "\n",
    "        # Fazendo o cruzamento:\n",
    "        pais = populacao[0::2]\n",
    "        maes = populacao[1::2]\n",
    "\n",
    "        contador = 0\n",
    "        for pai, mae in zip(pais, maes):\n",
    "            if rd.random() < CHANCE_CRUZAMENTO:\n",
    "                # vai cruzar :)\n",
    "                filho1, filho2 = cruzamento(pai, mae)\n",
    "                populacao[contador] = filho1\n",
    "                populacao[contador + 1] = filho2\n",
    "                contador = contador + 2\n",
    "        for n in range(len(populacao)):\n",
    "            if rd.random() <= CHANCE_MUTACAO:\n",
    "                individuo = populacao[n]\n",
    "                populacao[n] = mutacao(individuo)\n",
    "        fitness_depois = funcao_objetivo_pop(populacao)\n",
    "        media_fitness.append(np.mean(fitness_depois))\n",
    "        return media_fitness[-1]\n",
    "\n",
    "fitness_final = []\n",
    "for _ in range(100):\n",
    "    fitness_final.append(teste())\n",
    "\n",
    "histograma(fitness_final, legendas = ['Fitness Final Médio', 'Frequência'], bins = 'sqrt')\n",
    "\n",
    "print('O fitness médio da população final é:',np.mean(fitness_final), '+/-', np.std(fitness_final)/np.sqrt(NUM_GERACOES))"
   ]
  },
  {
   "cell_type": "markdown",
   "metadata": {},
   "source": [
    "## Conclusão\n",
    "\n"
   ]
  },
  {
   "cell_type": "markdown",
   "metadata": {},
   "source": [
    "Sabe-se que, se selecionarmos o indivíduo de maneira aletória, o valor esperado de fitness médio é 200. Entretanto, nosso algoritmo faz com que a população final média tenha fitness um pouco melhor que isso, cerca de 220. Portanto vemos que a seleção tem um efeito sobre a população total, mas é pequeno. <br>\n",
    "<br>\n",
    "PS: quando fiz esse expermento, não sabia sobre o hall da fama, que será abordado a partir do experimento A.05. Com ele veremos que o efeito médio sobre a população não é mais tão importante, e sim os melhores indivíduos dessa população."
   ]
  }
 ],
 "metadata": {
  "kernelspec": {
   "display_name": "ilumpy",
   "language": "python",
   "name": "ilumpy"
  },
  "language_info": {
   "codemirror_mode": {
    "name": "ipython",
    "version": 3
   },
   "file_extension": ".py",
   "mimetype": "text/x-python",
   "name": "python",
   "nbconvert_exporter": "python",
   "pygments_lexer": "ipython3",
   "version": "3.9.7"
  },
  "org": null
 },
 "nbformat": 4,
 "nbformat_minor": 4
}
