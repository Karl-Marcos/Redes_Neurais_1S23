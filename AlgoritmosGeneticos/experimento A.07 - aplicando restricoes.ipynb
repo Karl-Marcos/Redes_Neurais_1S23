{
 "cells": [
  {
   "cell_type": "markdown",
   "metadata": {},
   "source": [
    "Aplicando restrições na busca\n",
    "=============================\n",
    "\n"
   ]
  },
  {
   "cell_type": "markdown",
   "metadata": {},
   "source": [
    "## Introdução\n",
    "\n"
   ]
  },
  {
   "cell_type": "markdown",
   "metadata": {},
   "source": [
    "Muitos problemas de otimização com relevância científica têm uma ou mais `restrições` que devem ser levadas em consideração na hora de resolver o problema.\n",
    "\n",
    "Lembra do `problema da mochila` que vimos em Lógica Computacional? Era um problema de otimização onde queríamos maximizar o valor dos itens colocados na mochila enquanto observávamos a restrição do peso total dos itens (do contrário, a mochila rasgava).\n",
    "\n",
    "Uma forma de considerar essas restrições nos problemas é aplicando uma `penalidade` na função objetivo.\n",
    "\n",
    "Vamos pensar como seria essa penalidade no problema da mochila: a função objetivo é maximizar o valor dos itens na mochila, então é um problema de maximização. A função objetivo pode ser a soma dos itens da mochila. Se fosse só isso, teríamos\n",
    "\n",
    "$$\n",
    "f = \\sum_{i, i \\in \\mathrm{mochila}}\\mathrm{valor}(i)\n",
    "$$\n",
    "\n",
    "No entanto, apenas essa função não resolve o problema! Precisamos levar em consideração o limite de peso da mochila! Para isso, penalizamos a função objetivo levando em consideração essa restrição:\n",
    "\n",
    "$f=\\begin{cases}\n",
    "0 & \\textrm{se peso > limite da mochila}\\\\\n",
    "\\sum_{i,i\\in\\mathrm{mochila}}(\\mathrm{valor}(i)) & \\textrm{se peso} \\leq \\textrm{limite da mochila}\n",
    "\\end{cases}$\n",
    "\n",
    "Agora finalmente podemos seguir em frente e resolver o problema.\n",
    "\n"
   ]
  },
  {
   "cell_type": "markdown",
   "metadata": {},
   "source": [
    "## Reflexões\n",
    "\n"
   ]
  },
  {
   "cell_type": "markdown",
   "metadata": {},
   "source": [
    "Se usarmos a equação de $f$ acima, qual será o valor de $f$ caso não exista uma solução para um certo problema da mochila?\n",
    "\n",
    "Na equação de $f$ acima nós usamos o valor zero para indicar que uma restrição do problema não foi satisfeita. Você consegue pensar em outra estratégia para penalizar soluções inválidas?\n",
    "\n"
   ]
  },
  {
   "cell_type": "markdown",
   "metadata": {},
   "source": [
    "## Objetivo\n",
    "\n"
   ]
  },
  {
   "cell_type": "markdown",
   "metadata": {},
   "source": [
    "Encontrar uma solução para o problema da mochila usando algoritmos genéticos. Considere que existem 10 itens diferentes (com pesos e valores diferentes) disponíveis para serem escolhidos.\n",
    "\n"
   ]
  },
  {
   "cell_type": "markdown",
   "metadata": {},
   "source": [
    "## Descrição do problema\n",
    "\n"
   ]
  },
  {
   "cell_type": "markdown",
   "metadata": {},
   "source": [
    "No problema da mochila você tem um número $n$ de itens disponíveis, cada um com um peso e um valor associado. Sua mochila tem a capacidade de carregar um número $p$ de quilogramas, sendo que mais que isso faz com que sua mochila rasgue e todos os itens dentro dela caiam no chão e se quebrem de maneira catastrófica (indesejado). Sua tarefa é encontrar um conjunto de itens (considerando os $n$ disponíveis) que maximize o valor contido dentro da mochila, porém que tenham um peso dentro da capacidade da mesma.\n",
    "\n"
   ]
  },
  {
   "cell_type": "markdown",
   "metadata": {},
   "source": [
    "## Importações\n",
    "\n"
   ]
  },
  {
   "cell_type": "code",
   "execution_count": 1,
   "metadata": {},
   "outputs": [],
   "source": [
    "import random as rd\n",
    "import numpy as np\n",
    "from itertools import combinations\n",
    "import matplotlib.pyplot as plt\n",
    "from funcoes import cria_itens\n",
    "from funcoes import populacao_inicial_mochila\n",
    "from funcoes import funcao_objetivo_mochila as funcao_objetivo_individuo\n",
    "from funcoes import funcao_objetivo_pop_mochila\n",
    "from funcoes import selecao_torneio_max\n",
    "from funcoes import cruzamento_subconjunto as funcao_cruzamento\n",
    "from funcoes import mutacao_mochila\n",
    "from constantes import OBJETOS"
   ]
  },
  {
   "cell_type": "markdown",
   "metadata": {},
   "source": [
    "## Códigos e discussão\n",
    "\n"
   ]
  },
  {
   "cell_type": "code",
   "execution_count": 2,
   "metadata": {},
   "outputs": [
    {
     "data": {
      "text/plain": [
       "{'item 0': (0.739734127986833, 4.5917904802914125),\n",
       " 'item 1': (8.020590380311367, 6.400102167592343),\n",
       " 'item 2': (8.617293089742951, 1.8859185506689002),\n",
       " 'item 3': (9.314300590205844, 3.335391071944074),\n",
       " 'item 4': (6.585256564429519, 2.0130726886868135),\n",
       " 'item 5': (6.29588164513268, 6.012210710241489),\n",
       " 'item 6': (8.988416994786002, 1.7953610779835782),\n",
       " 'item 7': (3.3087211153153295, 8.497050453880558),\n",
       " 'item 8': (4.531988144179184, 5.572675608758648),\n",
       " 'item 9': (6.9104255809741675, 5.901458582474274),\n",
       " 'item 10': (5.0001531446887, 5.5539181988481054),\n",
       " 'item 11': (7.613520772780999, 8.93705294143448),\n",
       " 'item 12': (7.829604567013536, 9.855814370687785),\n",
       " 'item 13': (5.508624643412652, 1.109705394314927),\n",
       " 'item 14': (1.7485674069076018, 1.5799686716854688)}"
      ]
     },
     "execution_count": 2,
     "metadata": {},
     "output_type": "execute_result"
    }
   ],
   "source": [
    "### CONSTANTES\n",
    "\n",
    "# relacionadas à busca\n",
    "TAMANHO_POP = 25\n",
    "CHANCE_CRUZAMENTO = 0.9\n",
    "CHANCE_MUTACAO = 0.2\n",
    "NUM_COMBATENTES_NO_TORNEIO = 3\n",
    "NUM_GERACOES = 100\n",
    "NUM_GENES = 1\n",
    "\n",
    "# relacionadas ao problema a ser resolvido\n",
    "ITENS = cria_itens(15)\n",
    "P = 20\n",
    "ITENS"
   ]
  },
  {
   "cell_type": "code",
   "execution_count": 3,
   "metadata": {},
   "outputs": [],
   "source": [
    "# funções locais (para não ter que colocar as variaveis locais no script\n",
    "def cria_populacao_inicial(tamanho, nada):\n",
    "    return populacao_inicial_mochila(tamanho, ITENS)\n",
    "\n",
    "def funcao_objetivo_pop(populacao):\n",
    "    return funcao_objetivo_pop_mochila(populacao, ITENS, P)\n",
    "\n",
    "def funcao_selecao(populacao, fitness):\n",
    "    return selecao_torneio_max(populacao, fitness, NUM_COMBATENTES_NO_TORNEIO)\n",
    "\n",
    "def funcao_mutacao(individuo):\n",
    "    return mutacao_mochila(individuo, ITENS)"
   ]
  },
  {
   "cell_type": "code",
   "execution_count": 4,
   "metadata": {},
   "outputs": [],
   "source": [
    "# Busca por algoritmo genético\n",
    "\n",
    "populacao = cria_populacao_inicial(TAMANHO_POP, NUM_GENES)\n",
    "\n",
    "lista_fitness_medio = []\n",
    "\n",
    "melhor_fitness_ja_visto = - float(\"inf\") \n",
    "\n",
    "lista_melhor_fitness = []\n",
    "\n",
    "for n in range(NUM_GERACOES):\n",
    "    \n",
    "    # Seleção\n",
    "    fitness = funcao_objetivo_pop(populacao)\n",
    "    lista_fitness_medio.append(np.average(fitness))\n",
    "    populacao = funcao_selecao(populacao, fitness)\n",
    "    \n",
    "    # Cruzamento\n",
    "    pais = populacao[0::2]\n",
    "    maes = populacao[1::2]\n",
    "    \n",
    "    contador = 0\n",
    "    \n",
    "    for pai, mae in zip(pais, maes):\n",
    "        if rd.random() <= CHANCE_CRUZAMENTO:\n",
    "            filho1, filho2 = funcao_cruzamento(pai, mae)\n",
    "            populacao[contador] = filho1\n",
    "            populacao[contador + 1] = filho2\n",
    "        \n",
    "        contador = contador + 2   \n",
    "        \n",
    "    # Mutação\n",
    "    for n in range(len(populacao)):\n",
    "        if rd.random() <= CHANCE_MUTACAO:\n",
    "            individuo = populacao[n]\n",
    "            populacao[n] = funcao_mutacao(individuo)            \n",
    "            \n",
    "    # melhor individuo já visto até agora\n",
    "    fitness = funcao_objetivo_pop(populacao)\n",
    "    maior_fitness = max(fitness)\n",
    "    if maior_fitness > melhor_fitness_ja_visto:        \n",
    "        posicao = fitness.index(maior_fitness)\n",
    "        melhor_individuo_ja_visto = populacao[posicao]\n",
    "        melhor_fitness_ja_visto = maior_fitness    \n",
    "    lista_melhor_fitness.append(melhor_fitness_ja_visto)"
   ]
  },
  {
   "cell_type": "code",
   "execution_count": 5,
   "metadata": {},
   "outputs": [],
   "source": [
    "# Busca exaustiva\n",
    "\n",
    "melhor_fitness_ever = - float(\"inf\")\n",
    "\n",
    "# testando todos os subconjuntos possíveis:\n",
    "\n",
    "NOMES_ITENS = list(ITENS.keys())\n",
    "\n",
    "combinacoes = ()\n",
    "for i in range(1, len(NOMES_ITENS)):\n",
    "    combinacoes = combinacoes + tuple(combinations(NOMES_ITENS, i))\n",
    "for mochila in combinacoes:\n",
    "    obj = funcao_objetivo_individuo(mochila, ITENS, P)\n",
    "    if obj > melhor_fitness_ever:\n",
    "        melhor_fitness_ever = obj\n",
    "        melhor_resposta_ever = mochila"
   ]
  },
  {
   "cell_type": "code",
   "execution_count": 6,
   "metadata": {},
   "outputs": [
    {
     "name": "stdout",
     "output_type": "stream",
     "text": [
      "\n",
      "Melhor individuo obtido por algoritmos genéticos:\n",
      "['item 13', 'item 6', 'item 1', 'item 2', 'item 3', 'item 4', 'item 14'] com valor: 48.78304966979594\n",
      "\n",
      "Melhor individuo obtido por busca exaustiva:\n",
      "('item 1', 'item 2', 'item 3', 'item 4', 'item 6', 'item 13', 'item 14') com valor: 48.78304966979594\n"
     ]
    }
   ],
   "source": [
    "# Checando os resultados\n",
    "\n",
    "print()\n",
    "print(\"Melhor individuo obtido por algoritmos genéticos:\")\n",
    "print(melhor_individuo_ja_visto, \"com valor:\", melhor_fitness_ja_visto)\n",
    "\n",
    "print()\n",
    "print(\"Melhor individuo obtido por busca exaustiva:\")\n",
    "print(melhor_resposta_ever, \"com valor:\", melhor_fitness_ever)"
   ]
  },
  {
   "cell_type": "code",
   "execution_count": 7,
   "metadata": {},
   "outputs": [
    {
     "data": {
      "text/plain": [
       "<matplotlib.legend.Legend at 0x2e07be5d370>"
      ]
     },
     "execution_count": 7,
     "metadata": {},
     "output_type": "execute_result"
    },
    {
     "data": {
      "image/png": "[encoded data removed]",
      "text/plain": [
       "<Figure size 432x288 with 1 Axes>"
      ]
     },
     "metadata": {
      "needs_background": "light"
     },
     "output_type": "display_data"
    }
   ],
   "source": [
    "fig, ax = plt.subplots(1, 1)\n",
    "ax.plot(range(NUM_GERACOES), lista_melhor_fitness, c=\"b\")\n",
    "ax.axhline(y=melhor_fitness_ever, c=\"r\", linestyle=\"--\", label=\"Maior valor possível\")\n",
    "ax.set_xlabel(\"Geração\")\n",
    "ax.set_ylabel(\"Valor da melhor mochila\")\n",
    "ax.set_title(\"Maior valor já visto\", fontsize=16)\n",
    "ax.legend()"
   ]
  },
  {
   "cell_type": "code",
   "execution_count": 8,
   "metadata": {},
   "outputs": [
    {
     "data": {
      "text/plain": [
       "<matplotlib.legend.Legend at 0x2e07bf4b550>"
      ]
     },
     "execution_count": 8,
     "metadata": {},
     "output_type": "execute_result"
    },
    {
     "data": {
      "image/png": "[encoded data removed]",
      "text/plain": [
       "<Figure size 432x288 with 1 Axes>"
      ]
     },
     "metadata": {
      "needs_background": "light"
     },
     "output_type": "display_data"
    }
   ],
   "source": [
    "fig, ax = plt.subplots(1, 1)\n",
    "ax.plot(range(NUM_GERACOES), lista_fitness_medio, c=\"b\")\n",
    "ax.axhline(y=melhor_fitness_ever, c=\"r\", linestyle=\"--\", label=\"Maior valor possível\")\n",
    "ax.set_xlabel(\"Geração\")\n",
    "ax.set_ylabel(\"Valor da mochila média\")\n",
    "ax.set_title(\"Valor médio da geração\", fontsize=16)\n",
    "ax.legend()"
   ]
  },
  {
   "cell_type": "markdown",
   "metadata": {},
   "source": [
    "## Fazendo para os itens da aula"
   ]
  },
  {
   "cell_type": "code",
   "execution_count": 9,
   "metadata": {},
   "outputs": [
    {
     "data": {
      "text/plain": [
       "{'vinil falsificado da volta do One Direction': [2500, 2],\n",
       " 'Harry Potter: ele voltou, confia!': [1500, 3],\n",
       " 'Quadrinho super raro do Aranha-Homem da vida real': [7000, 3],\n",
       " 'mesa dobrável para laptop': [150, 3],\n",
       " 'tablet': [2400, 0.6],\n",
       " 'teclado musical': [3000, 3.5],\n",
       " 'bicicleta': [1000, 16],\n",
       " 'lições em dia': [5000, 8],\n",
       " 'energético': [1500, 2],\n",
       " 'docinhos para o stress': [3000, 5]}"
      ]
     },
     "execution_count": 9,
     "metadata": {},
     "output_type": "execute_result"
    }
   ],
   "source": [
    "# convertendo estrutura de dados\n",
    "ITENS = {}\n",
    "for i in OBJETOS:\n",
    "    ITENS.update({i: list(OBJETOS[i].values()) })\n",
    "    ITENS[i].reverse()\n",
    "ITENS"
   ]
  },
  {
   "cell_type": "code",
   "execution_count": 10,
   "metadata": {},
   "outputs": [],
   "source": [
    "# Busca por algoritmo genético\n",
    "\n",
    "populacao = cria_populacao_inicial(TAMANHO_POP, NUM_GENES)\n",
    "\n",
    "lista_fitness_medio = []\n",
    "\n",
    "melhor_fitness_ja_visto = - float(\"inf\") \n",
    "\n",
    "lista_melhor_fitness = []\n",
    "\n",
    "for n in range(NUM_GERACOES):\n",
    "    \n",
    "    # Seleção\n",
    "    fitness = funcao_objetivo_pop(populacao)\n",
    "    lista_fitness_medio.append(np.average(fitness))\n",
    "    populacao = funcao_selecao(populacao, fitness)\n",
    "    \n",
    "    # Cruzamento\n",
    "    pais = populacao[0::2]\n",
    "    maes = populacao[1::2]\n",
    "    \n",
    "    contador = 0\n",
    "    \n",
    "    for pai, mae in zip(pais, maes):\n",
    "        if rd.random() <= CHANCE_CRUZAMENTO:\n",
    "            filho1, filho2 = funcao_cruzamento(pai, mae)\n",
    "            populacao[contador] = filho1\n",
    "            populacao[contador + 1] = filho2\n",
    "        \n",
    "        contador = contador + 2   \n",
    "        \n",
    "    # Mutação\n",
    "    for n in range(len(populacao)):\n",
    "        if rd.random() <= CHANCE_MUTACAO:\n",
    "            individuo = populacao[n]\n",
    "            populacao[n] = funcao_mutacao(individuo)            \n",
    "            \n",
    "    # melhor individuo já visto até agora\n",
    "    fitness = funcao_objetivo_pop(populacao)\n",
    "    maior_fitness = max(fitness)\n",
    "    if maior_fitness > melhor_fitness_ja_visto:        \n",
    "        posicao = fitness.index(maior_fitness)\n",
    "        melhor_individuo_ja_visto = populacao[posicao]\n",
    "        melhor_fitness_ja_visto = maior_fitness    \n",
    "    lista_melhor_fitness.append(melhor_fitness_ja_visto)"
   ]
  },
  {
   "cell_type": "code",
   "execution_count": 11,
   "metadata": {},
   "outputs": [],
   "source": [
    "# Busca exaustiva\n",
    "\n",
    "melhor_fitness_ever = - float(\"inf\")\n",
    "\n",
    "# testando todos os subconjuntos possíveis:\n",
    "\n",
    "NOMES_ITENS = list(ITENS.keys())\n",
    "\n",
    "combinacoes = ()\n",
    "for i in range(1, len(NOMES_ITENS)):\n",
    "    combinacoes = combinacoes + tuple(combinations(NOMES_ITENS, i))\n",
    "for mochila in combinacoes:\n",
    "    obj = funcao_objetivo_individuo(mochila, ITENS, P)\n",
    "    if obj > melhor_fitness_ever:\n",
    "        melhor_fitness_ever = obj\n",
    "        melhor_resposta_ever = mochila"
   ]
  },
  {
   "cell_type": "code",
   "execution_count": 12,
   "metadata": {},
   "outputs": [
    {
     "name": "stdout",
     "output_type": "stream",
     "text": [
      "\n",
      "Melhor individuo obtido por algoritmos genéticos:\n",
      "['teclado musical', 'energético', 'tablet', 'vinil falsificado da volta do One Direction', 'Quadrinho super raro do Aranha-Homem da vida real', 'lições em dia'] com valor: 21400\n",
      "\n",
      "Melhor individuo obtido por busca exaustiva:\n",
      "('vinil falsificado da volta do One Direction', 'Quadrinho super raro do Aranha-Homem da vida real', 'tablet', 'teclado musical', 'lições em dia', 'energético') com valor: 21400\n"
     ]
    }
   ],
   "source": [
    "# Checando os resultados\n",
    "\n",
    "print()\n",
    "print(\"Melhor individuo obtido por algoritmos genéticos:\")\n",
    "print(melhor_individuo_ja_visto, \"com valor:\", melhor_fitness_ja_visto)\n",
    "\n",
    "print()\n",
    "print(\"Melhor individuo obtido por busca exaustiva:\")\n",
    "print(melhor_resposta_ever, \"com valor:\", melhor_fitness_ever)"
   ]
  },
  {
   "cell_type": "code",
   "execution_count": 13,
   "metadata": {},
   "outputs": [
    {
     "data": {
      "text/plain": [
       "<matplotlib.legend.Legend at 0x2e07bb6f2e0>"
      ]
     },
     "execution_count": 13,
     "metadata": {},
     "output_type": "execute_result"
    },
    {
     "data": {
      "image/png": "[encoded data removed]",
      "text/plain": [
       "<Figure size 432x288 with 1 Axes>"
      ]
     },
     "metadata": {
      "needs_background": "light"
     },
     "output_type": "display_data"
    }
   ],
   "source": [
    "fig, ax = plt.subplots(1, 1)\n",
    "ax.plot(range(NUM_GERACOES), lista_melhor_fitness, c=\"b\")\n",
    "ax.axhline(y=melhor_fitness_ever, c=\"r\", linestyle=\"--\", label=\"Maior valor possível\")\n",
    "ax.set_xlabel(\"Geração\")\n",
    "ax.set_ylabel(\"Valor da melhor mochila\")\n",
    "ax.set_title(\"Maior valor já visto\", fontsize=16)\n",
    "ax.legend()"
   ]
  },
  {
   "cell_type": "code",
   "execution_count": 14,
   "metadata": {},
   "outputs": [
    {
     "data": {
      "text/plain": [
       "<matplotlib.legend.Legend at 0x2e07bd56a60>"
      ]
     },
     "execution_count": 14,
     "metadata": {},
     "output_type": "execute_result"
    },
    {
     "data": {
      "image/png": "[encoded data removed]",
      "text/plain": [
       "<Figure size 432x288 with 1 Axes>"
      ]
     },
     "metadata": {
      "needs_background": "light"
     },
     "output_type": "display_data"
    }
   ],
   "source": [
    "fig, ax = plt.subplots(1, 1)\n",
    "ax.plot(range(NUM_GERACOES), lista_fitness_medio, c=\"b\")\n",
    "ax.axhline(y=melhor_fitness_ever, c=\"r\", linestyle=\"--\", label=\"Maior valor possível\")\n",
    "ax.set_xlabel(\"Geração\")\n",
    "ax.set_ylabel(\"Valor da mochila média\")\n",
    "ax.set_title(\"Valor médio da geração\", fontsize=16)\n",
    "ax.legend()"
   ]
  },
  {
   "cell_type": "markdown",
   "metadata": {},
   "source": [
    "## Conclusão\n",
    "\n"
   ]
  },
  {
   "cell_type": "markdown",
   "metadata": {},
   "source": [
    "Para esse experimento foi preciso criar quase todas as funções do começo, a unica que foi reutilizada básicamente foi a função seleção. Para a estrutura de dados, escolhi gerar os itens possíveis como um dicionário com o nome do item nas chaves e como valores uma lista contendo o preço e o peso. Da maneira como eu implementei, tanto o preço como o peso são números (float) de 0 a 10. Para representar um indivíduo, utilizei uma lista de nomes de itens, sem nenhuma repetição. <br>\n",
    "<br>\n",
    "A partir disso, construí uma função objetivo, que, caso o peso seja maior que uma constante P (que eu escolhi como sendo 40), a função é 0. Caso contrario, a função é a soma dos valores dos itens na lista. Para a seleção eu utilizei a seleção torneio. Para o cruzamento, eu criei uma função que encontra o conjunto correspondente à união dos itens do pai e da mãe, e depois soteia elementos até formar um individuo com o mesmo tamanho que o pai e depois outro com o mesmo tamanho que a mãe. Já para a mutação, criei uma função que pode remover um item, ou acrescentar um item, ou trocar um item por outro dentre os possíveis. <br>\n",
    "<br>\n",
    "Durante a implementação, percebi que 10 itens possíveis correspondem a um espaço de busca relativamente pequeno (1024 possibilidades), o que torna difícil observar a eficiência do algoritmo, já que a chance do melhor indivíduo aparecer logo é grande. Portanto fiz o teste com 15 itens (32768 possibilidades) o que tornou o experimento mais representativo.<br>\n",
    "<br>\n",
    "Além disso, ao variar os hiperparêmetros, percebi que a eficiencia do algoritmo melhorou conforme aumentei a chance de cruzamento e de mutação, o que pode ser um indicativo de que esse problema é favorecido com uma maio variabilidade."
   ]
  }
 ],
 "metadata": {
  "kernelspec": {
   "display_name": "ilumpy",
   "language": "python",
   "name": "ilumpy"
  },
  "language_info": {
   "codemirror_mode": {
    "name": "ipython",
    "version": 3
   },
   "file_extension": ".py",
   "mimetype": "text/x-python",
   "name": "python",
   "nbconvert_exporter": "python",
   "pygments_lexer": "ipython3",
   "version": "3.9.7"
  },
  "org": null
 },
 "nbformat": 4,
 "nbformat_minor": 4
}
