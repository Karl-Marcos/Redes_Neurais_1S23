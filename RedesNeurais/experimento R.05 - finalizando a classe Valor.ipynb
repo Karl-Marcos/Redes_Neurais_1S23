{
 "cells": [
  {
   "cell_type": "markdown",
   "metadata": {},
   "source": [
    "Finalizando a classe Valor\n",
    "==========================\n",
    "\n"
   ]
  },
  {
   "cell_type": "markdown",
   "metadata": {},
   "source": [
    "## Introdução\n",
    "\n"
   ]
  },
  {
   "cell_type": "markdown",
   "metadata": {},
   "source": [
    "Chegou a hora de finalizar a classe `Valor`!\n",
    "\n"
   ]
  },
  {
   "cell_type": "markdown",
   "metadata": {},
   "source": [
    "## Objetivo\n",
    "\n"
   ]
  },
  {
   "cell_type": "markdown",
   "metadata": {},
   "source": [
    "O objetivo é fazer com que a classe `Valor` seja capaz de realizar algumas operações necessárias para que seja usada na nossa rede neural artificial.\n",
    "\n"
   ]
  },
  {
   "cell_type": "markdown",
   "metadata": {},
   "source": [
    "## Importações\n",
    "\n"
   ]
  },
  {
   "cell_type": "code",
   "execution_count": 1,
   "metadata": {},
   "outputs": [],
   "source": [
    "import math\n",
    "from funcoes import plota_grafo"
   ]
  },
  {
   "cell_type": "markdown",
   "metadata": {},
   "source": [
    "## Código e discussão\n",
    "\n"
   ]
  },
  {
   "cell_type": "markdown",
   "metadata": {},
   "source": [
    "### Finalizando a classe `Valor`\n",
    "\n"
   ]
  },
  {
   "cell_type": "markdown",
   "metadata": {},
   "source": [
    "Aqui está a classe `Valor` assim como feita na aula anterior. Vamos modificá-la para cumprir nossos objetivos (ver objetivos na próxima seção).\n",
    "\n"
   ]
  },
  {
   "cell_type": "code",
   "execution_count": 2,
   "metadata": {},
   "outputs": [],
   "source": [
    "from classes import Valor"
   ]
  },
  {
   "cell_type": "markdown",
   "metadata": {},
   "source": [
    "### Objetivos a serem cumpridos\n",
    "\n"
   ]
  },
  {
   "cell_type": "markdown",
   "metadata": {},
   "source": [
    "Quero poder acidionar uma instância de `Valor` com uma constante qualquer.\n",
    "\n"
   ]
  },
  {
   "cell_type": "code",
   "execution_count": 3,
   "metadata": {},
   "outputs": [
    {
     "name": "stdout",
     "output_type": "stream",
     "text": [
      "Valor(data=11)\n"
     ]
    }
   ],
   "source": [
    "a = Valor(10, rotulo=\"a\")\n",
    "b = a + 1\n",
    "print(b)"
   ]
  },
  {
   "cell_type": "markdown",
   "metadata": {},
   "source": [
    "Quero poder multiplicar uma instância de `Valor` com uma constante qualquer.\n",
    "\n"
   ]
  },
  {
   "cell_type": "code",
   "execution_count": 4,
   "metadata": {},
   "outputs": [
    {
     "name": "stdout",
     "output_type": "stream",
     "text": [
      "Valor(data=100)\n"
     ]
    }
   ],
   "source": [
    "a = Valor(10, rotulo=\"a\")\n",
    "b = a * 10\n",
    "print(b)"
   ]
  },
  {
   "cell_type": "markdown",
   "metadata": {},
   "source": [
    "Quero poder acidionar uma instância de `Valor` com uma constante qualquer, mas na ordem oposta.\n",
    "\n"
   ]
  },
  {
   "cell_type": "code",
   "execution_count": 5,
   "metadata": {},
   "outputs": [
    {
     "name": "stdout",
     "output_type": "stream",
     "text": [
      "Valor(data=11)\n"
     ]
    }
   ],
   "source": [
    "a = Valor(10, rotulo=\"a\")\n",
    "b = 1 + a\n",
    "print(b)"
   ]
  },
  {
   "cell_type": "markdown",
   "metadata": {},
   "source": [
    "Quero poder multiplicar uma instância de `Valor` com uma constante qualquer, mas na ordem oposta.\n",
    "\n"
   ]
  },
  {
   "cell_type": "code",
   "execution_count": 6,
   "metadata": {},
   "outputs": [
    {
     "name": "stdout",
     "output_type": "stream",
     "text": [
      "Valor(data=100)\n"
     ]
    }
   ],
   "source": [
    "a = Valor(10, rotulo=\"a\")\n",
    "b = 10 * a\n",
    "print(b)"
   ]
  },
  {
   "cell_type": "markdown",
   "metadata": {},
   "source": [
    "Quero poder aplicar a função exponencial ($e^x$) em uma instância de `Valor`, computando corretamente o gradiente local desta operação.\n",
    "\n"
   ]
  },
  {
   "cell_type": "code",
   "execution_count": 7,
   "metadata": {},
   "outputs": [
    {
     "name": "stdout",
     "output_type": "stream",
     "text": [
      "Valor(data=2.718281828459045)\n"
     ]
    }
   ],
   "source": [
    "a = Valor(1, rotulo=\"a\")\n",
    "b = a.exp()\n",
    "print(b)"
   ]
  },
  {
   "cell_type": "markdown",
   "metadata": {},
   "source": [
    "Quero poder elevar uma instância de `Valor` a um número real qualquer. **Nota**: não vai funcionar se fizer um `Valor` elevado a outro `Valor` pois vamos propagar os gradientes apenas considerando que estamos elevando a uma constante qualquer.\n",
    "\n"
   ]
  },
  {
   "cell_type": "code",
   "execution_count": 8,
   "metadata": {},
   "outputs": [
    {
     "name": "stdout",
     "output_type": "stream",
     "text": [
      "Valor(data=100)\n"
     ]
    }
   ],
   "source": [
    "a = Valor(10, rotulo=\"a\")\n",
    "b = a**2\n",
    "print(b)"
   ]
  },
  {
   "cell_type": "markdown",
   "metadata": {},
   "source": [
    "Quero poder dividir uma instância de `Valor` por outra instância de `Valor`.\n",
    "\n"
   ]
  },
  {
   "cell_type": "code",
   "execution_count": 9,
   "metadata": {},
   "outputs": [],
   "source": [
    "a = Valor(1, rotulo=\"a\")\n",
    "b = Valor(2, rotulo=\"b\")\n",
    "c = a / b"
   ]
  },
  {
   "cell_type": "markdown",
   "metadata": {},
   "source": [
    "Quero poder computar o negativo de uma instância de `Valor`.\n",
    "\n"
   ]
  },
  {
   "cell_type": "code",
   "execution_count": 10,
   "metadata": {},
   "outputs": [
    {
     "name": "stdout",
     "output_type": "stream",
     "text": [
      "Valor(data=-1)\n"
     ]
    }
   ],
   "source": [
    "a = Valor(1, rotulo=\"a\")\n",
    "b = -a\n",
    "print(b)"
   ]
  },
  {
   "cell_type": "markdown",
   "metadata": {},
   "source": [
    "Quero poder subtrair uma instância de `Valor` por outra instância de `Valor`.\n",
    "\n"
   ]
  },
  {
   "cell_type": "code",
   "execution_count": 11,
   "metadata": {},
   "outputs": [
    {
     "name": "stdout",
     "output_type": "stream",
     "text": [
      "Valor(data=7)\n"
     ]
    }
   ],
   "source": [
    "a = Valor(10, rotulo=\"a\")\n",
    "b = Valor(3, rotulo=\"b\")\n",
    "c = a - b\n",
    "print(c)"
   ]
  },
  {
   "cell_type": "markdown",
   "metadata": {},
   "source": [
    "E, finalmente, quero poder aplicar a função sigmoide (também conhecida como logística) a uma instância de `Valor`. A função sigmoide é a seguinte:\n",
    "\n",
    "$$\n",
    "S(x) = \\frac{e^x}{e^x + 1}\n",
    "$$\n",
    "\n"
   ]
  },
  {
   "cell_type": "code",
   "execution_count": 12,
   "metadata": {},
   "outputs": [
    {
     "data": {
      "image/svg+xml": [
       "<?xml version=\"1.0\" encoding=\"UTF-8\" standalone=\"no\"?>\n",
       "<!DOCTYPE svg PUBLIC \"-//W3C//DTD SVG 1.1//EN\"\n",
       " \"http://www.w3.org/Graphics/SVG/1.1/DTD/svg11.dtd\">\n",
       "<!-- Generated by graphviz version 6.0.2 (20221011.1828)\n",
       " -->\n",
       "<!-- Pages: 1 -->\n",
       "<svg width=\"1565pt\" height=\"154pt\"\n",
       " viewBox=\"0.00 0.00 1565.00 154.00\" xmlns=\"http://www.w3.org/2000/svg\" xmlns:xlink=\"http://www.w3.org/1999/xlink\">\n",
       "<g id=\"graph0\" class=\"graph\" transform=\"scale(1 1) rotate(0) translate(4 150)\">\n",
       "<polygon fill=\"white\" stroke=\"none\" points=\"-4,4 -4,-150 1561,-150 1561,4 -4,4\"/>\n",
       "<!-- 2321704271392 -->\n",
       "<g id=\"node1\" class=\"node\">\n",
       "<title>2321704271392</title>\n",
       "<polygon fill=\"none\" stroke=\"black\" points=\"533,-109.5 533,-145.5 717,-145.5 717,-109.5 533,-109.5\"/>\n",
       "<text text-anchor=\"middle\" x=\"543\" y=\"-123.8\" font-family=\"Times New Roman,serif\" font-size=\"14.00\"> </text>\n",
       "<polyline fill=\"none\" stroke=\"black\" points=\"553,-109.5 553,-145.5\"/>\n",
       "<text text-anchor=\"middle\" x=\"593.5\" y=\"-123.8\" font-family=\"Times New Roman,serif\" font-size=\"14.00\">data 2.7183</text>\n",
       "<polyline fill=\"none\" stroke=\"black\" points=\"634,-109.5 634,-145.5\"/>\n",
       "<text text-anchor=\"middle\" x=\"675.5\" y=\"-123.8\" font-family=\"Times New Roman,serif\" font-size=\"14.00\">grad 0.0000</text>\n",
       "</g>\n",
       "<!-- 2321704269376* -->\n",
       "<g id=\"node4\" class=\"node\">\n",
       "<title>2321704269376*</title>\n",
       "<ellipse fill=\"none\" stroke=\"black\" cx=\"1310\" cy=\"-102.5\" rx=\"27\" ry=\"18\"/>\n",
       "<text text-anchor=\"middle\" x=\"1310\" y=\"-98.8\" font-family=\"Times New Roman,serif\" font-size=\"14.00\">*</text>\n",
       "</g>\n",
       "<!-- 2321704271392&#45;&gt;2321704269376* -->\n",
       "<g id=\"edge7\" class=\"edge\">\n",
       "<title>2321704271392&#45;&gt;2321704269376*</title>\n",
       "<path fill=\"none\" stroke=\"black\" d=\"M717.08,-125.94C838.17,-123.56 1058.8,-118.11 1247,-107.5 1255.43,-107.02 1264.5,-106.37 1273.02,-105.7\"/>\n",
       "<polygon fill=\"black\" stroke=\"black\" points=\"1273.4,-109.18 1283.08,-104.87 1272.82,-102.2 1273.4,-109.18\"/>\n",
       "</g>\n",
       "<!-- 2321704271392exp -->\n",
       "<g id=\"node2\" class=\"node\">\n",
       "<title>2321704271392exp</title>\n",
       "<ellipse fill=\"none\" stroke=\"black\" cx=\"250\" cy=\"-127.5\" rx=\"27\" ry=\"18\"/>\n",
       "<text text-anchor=\"middle\" x=\"250\" y=\"-123.8\" font-family=\"Times New Roman,serif\" font-size=\"14.00\">exp</text>\n",
       "</g>\n",
       "<!-- 2321704271392exp&#45;&gt;2321704271392 -->\n",
       "<g id=\"edge1\" class=\"edge\">\n",
       "<title>2321704271392exp&#45;&gt;2321704271392</title>\n",
       "<path fill=\"none\" stroke=\"black\" d=\"M277.23,-127.5C327.37,-127.5 439.24,-127.5 522.44,-127.5\"/>\n",
       "<polygon fill=\"black\" stroke=\"black\" points=\"522.69,-131 532.69,-127.5 522.69,-124 522.69,-131\"/>\n",
       "</g>\n",
       "<!-- 2321704269376 -->\n",
       "<g id=\"node3\" class=\"node\">\n",
       "<title>2321704269376</title>\n",
       "<polygon fill=\"none\" stroke=\"black\" points=\"1373,-84.5 1373,-120.5 1557,-120.5 1557,-84.5 1373,-84.5\"/>\n",
       "<text text-anchor=\"middle\" x=\"1383\" y=\"-98.8\" font-family=\"Times New Roman,serif\" font-size=\"14.00\"> </text>\n",
       "<polyline fill=\"none\" stroke=\"black\" points=\"1393,-84.5 1393,-120.5\"/>\n",
       "<text text-anchor=\"middle\" x=\"1433.5\" y=\"-98.8\" font-family=\"Times New Roman,serif\" font-size=\"14.00\">data 0.7311</text>\n",
       "<polyline fill=\"none\" stroke=\"black\" points=\"1474,-84.5 1474,-120.5\"/>\n",
       "<text text-anchor=\"middle\" x=\"1515.5\" y=\"-98.8\" font-family=\"Times New Roman,serif\" font-size=\"14.00\">grad 0.0000</text>\n",
       "</g>\n",
       "<!-- 2321704269376*&#45;&gt;2321704269376 -->\n",
       "<g id=\"edge2\" class=\"edge\">\n",
       "<title>2321704269376*&#45;&gt;2321704269376</title>\n",
       "<path fill=\"none\" stroke=\"black\" d=\"M1337.3,-102.5C1344.83,-102.5 1353.52,-102.5 1362.75,-102.5\"/>\n",
       "<polygon fill=\"black\" stroke=\"black\" points=\"1362.95,-106 1372.95,-102.5 1362.95,-99 1362.95,-106\"/>\n",
       "</g>\n",
       "<!-- 2321704269616 -->\n",
       "<g id=\"node5\" class=\"node\">\n",
       "<title>2321704269616</title>\n",
       "<polygon fill=\"none\" stroke=\"black\" points=\"313,-55.5 313,-91.5 497,-91.5 497,-55.5 313,-55.5\"/>\n",
       "<text text-anchor=\"middle\" x=\"323\" y=\"-69.8\" font-family=\"Times New Roman,serif\" font-size=\"14.00\"> </text>\n",
       "<polyline fill=\"none\" stroke=\"black\" points=\"333,-55.5 333,-91.5\"/>\n",
       "<text text-anchor=\"middle\" x=\"373.5\" y=\"-69.8\" font-family=\"Times New Roman,serif\" font-size=\"14.00\">data 2.7183</text>\n",
       "<polyline fill=\"none\" stroke=\"black\" points=\"414,-55.5 414,-91.5\"/>\n",
       "<text text-anchor=\"middle\" x=\"455.5\" y=\"-69.8\" font-family=\"Times New Roman,serif\" font-size=\"14.00\">grad 0.0000</text>\n",
       "</g>\n",
       "<!-- 2321704270816+ -->\n",
       "<g id=\"node12\" class=\"node\">\n",
       "<title>2321704270816+</title>\n",
       "<ellipse fill=\"none\" stroke=\"black\" cx=\"625\" cy=\"-72.5\" rx=\"27\" ry=\"18\"/>\n",
       "<text text-anchor=\"middle\" x=\"625\" y=\"-68.8\" font-family=\"Times New Roman,serif\" font-size=\"14.00\">+</text>\n",
       "</g>\n",
       "<!-- 2321704269616&#45;&gt;2321704270816+ -->\n",
       "<g id=\"edge9\" class=\"edge\">\n",
       "<title>2321704269616&#45;&gt;2321704270816+</title>\n",
       "<path fill=\"none\" stroke=\"black\" d=\"M497.19,-73.08C529.04,-72.94 562.98,-72.78 587.72,-72.67\"/>\n",
       "<polygon fill=\"black\" stroke=\"black\" points=\"587.75,-76.17 597.73,-72.62 587.72,-69.17 587.75,-76.17\"/>\n",
       "</g>\n",
       "<!-- 2321704269616exp -->\n",
       "<g id=\"node6\" class=\"node\">\n",
       "<title>2321704269616exp</title>\n",
       "<ellipse fill=\"none\" stroke=\"black\" cx=\"250\" cy=\"-73.5\" rx=\"27\" ry=\"18\"/>\n",
       "<text text-anchor=\"middle\" x=\"250\" y=\"-69.8\" font-family=\"Times New Roman,serif\" font-size=\"14.00\">exp</text>\n",
       "</g>\n",
       "<!-- 2321704269616exp&#45;&gt;2321704269616 -->\n",
       "<g id=\"edge3\" class=\"edge\">\n",
       "<title>2321704269616exp&#45;&gt;2321704269616</title>\n",
       "<path fill=\"none\" stroke=\"black\" d=\"M277.3,-73.5C284.83,-73.5 293.52,-73.5 302.75,-73.5\"/>\n",
       "<polygon fill=\"black\" stroke=\"black\" points=\"302.95,-77 312.95,-73.5 302.95,-70 302.95,-77\"/>\n",
       "</g>\n",
       "<!-- 2321704271680 -->\n",
       "<g id=\"node7\" class=\"node\">\n",
       "<title>2321704271680</title>\n",
       "<polygon fill=\"none\" stroke=\"black\" points=\"313,-0.5 313,-36.5 497,-36.5 497,-0.5 313,-0.5\"/>\n",
       "<text text-anchor=\"middle\" x=\"323\" y=\"-14.8\" font-family=\"Times New Roman,serif\" font-size=\"14.00\"> </text>\n",
       "<polyline fill=\"none\" stroke=\"black\" points=\"333,-0.5 333,-36.5\"/>\n",
       "<text text-anchor=\"middle\" x=\"373.5\" y=\"-14.8\" font-family=\"Times New Roman,serif\" font-size=\"14.00\">data 1.0000</text>\n",
       "<polyline fill=\"none\" stroke=\"black\" points=\"414,-0.5 414,-36.5\"/>\n",
       "<text text-anchor=\"middle\" x=\"455.5\" y=\"-14.8\" font-family=\"Times New Roman,serif\" font-size=\"14.00\">grad 0.0000</text>\n",
       "</g>\n",
       "<!-- 2321704271680&#45;&gt;2321704270816+ -->\n",
       "<g id=\"edge12\" class=\"edge\">\n",
       "<title>2321704271680&#45;&gt;2321704270816+</title>\n",
       "<path fill=\"none\" stroke=\"black\" d=\"M478.89,-36.56C516.21,-45.8 559.89,-56.62 589.5,-63.95\"/>\n",
       "<polygon fill=\"black\" stroke=\"black\" points=\"588.8,-67.39 599.35,-66.39 590.49,-60.59 588.8,-67.39\"/>\n",
       "</g>\n",
       "<!-- 2321704270672 -->\n",
       "<g id=\"node8\" class=\"node\">\n",
       "<title>2321704270672</title>\n",
       "<polygon fill=\"none\" stroke=\"black\" points=\"0,-82.5 0,-118.5 187,-118.5 187,-82.5 0,-82.5\"/>\n",
       "<text text-anchor=\"middle\" x=\"11.5\" y=\"-96.8\" font-family=\"Times New Roman,serif\" font-size=\"14.00\">a</text>\n",
       "<polyline fill=\"none\" stroke=\"black\" points=\"23,-82.5 23,-118.5\"/>\n",
       "<text text-anchor=\"middle\" x=\"63.5\" y=\"-96.8\" font-family=\"Times New Roman,serif\" font-size=\"14.00\">data 1.0000</text>\n",
       "<polyline fill=\"none\" stroke=\"black\" points=\"104,-82.5 104,-118.5\"/>\n",
       "<text text-anchor=\"middle\" x=\"145.5\" y=\"-96.8\" font-family=\"Times New Roman,serif\" font-size=\"14.00\">grad 0.0000</text>\n",
       "</g>\n",
       "<!-- 2321704270672&#45;&gt;2321704271392exp -->\n",
       "<g id=\"edge8\" class=\"edge\">\n",
       "<title>2321704270672&#45;&gt;2321704271392exp</title>\n",
       "<path fill=\"none\" stroke=\"black\" d=\"M187.05,-116.67C196.34,-118.3 205.33,-119.87 213.44,-121.29\"/>\n",
       "<polygon fill=\"black\" stroke=\"black\" points=\"213.1,-124.78 223.55,-123.05 214.3,-117.88 213.1,-124.78\"/>\n",
       "</g>\n",
       "<!-- 2321704270672&#45;&gt;2321704269616exp -->\n",
       "<g id=\"edge6\" class=\"edge\">\n",
       "<title>2321704270672&#45;&gt;2321704269616exp</title>\n",
       "<path fill=\"none\" stroke=\"black\" d=\"M187.05,-84.33C196.34,-82.7 205.33,-81.13 213.44,-79.71\"/>\n",
       "<polygon fill=\"black\" stroke=\"black\" points=\"214.3,-83.12 223.55,-77.95 213.1,-76.22 214.3,-83.12\"/>\n",
       "</g>\n",
       "<!-- 2321704268752 -->\n",
       "<g id=\"node9\" class=\"node\">\n",
       "<title>2321704268752</title>\n",
       "<polygon fill=\"none\" stroke=\"black\" points=\"1063,-61.5 1063,-97.5 1247,-97.5 1247,-61.5 1063,-61.5\"/>\n",
       "<text text-anchor=\"middle\" x=\"1073\" y=\"-75.8\" font-family=\"Times New Roman,serif\" font-size=\"14.00\"> </text>\n",
       "<polyline fill=\"none\" stroke=\"black\" points=\"1083,-61.5 1083,-97.5\"/>\n",
       "<text text-anchor=\"middle\" x=\"1123.5\" y=\"-75.8\" font-family=\"Times New Roman,serif\" font-size=\"14.00\">data 0.2689</text>\n",
       "<polyline fill=\"none\" stroke=\"black\" points=\"1164,-61.5 1164,-97.5\"/>\n",
       "<text text-anchor=\"middle\" x=\"1205.5\" y=\"-75.8\" font-family=\"Times New Roman,serif\" font-size=\"14.00\">grad 0.0000</text>\n",
       "</g>\n",
       "<!-- 2321704268752&#45;&gt;2321704269376* -->\n",
       "<g id=\"edge11\" class=\"edge\">\n",
       "<title>2321704268752&#45;&gt;2321704269376*</title>\n",
       "<path fill=\"none\" stroke=\"black\" d=\"M1247.21,-93.21C1256.47,-94.6 1265.42,-95.95 1273.51,-97.17\"/>\n",
       "<polygon fill=\"black\" stroke=\"black\" points=\"1273.19,-100.66 1283.6,-98.68 1274.23,-93.73 1273.19,-100.66\"/>\n",
       "</g>\n",
       "<!-- 2321704268752**&#45;1 -->\n",
       "<g id=\"node10\" class=\"node\">\n",
       "<title>2321704268752**&#45;1</title>\n",
       "<ellipse fill=\"none\" stroke=\"black\" cx=\"1000\" cy=\"-78.5\" rx=\"27\" ry=\"18\"/>\n",
       "<text text-anchor=\"middle\" x=\"1000\" y=\"-74.8\" font-family=\"Times New Roman,serif\" font-size=\"14.00\">**&#45;1</text>\n",
       "</g>\n",
       "<!-- 2321704268752**&#45;1&#45;&gt;2321704268752 -->\n",
       "<g id=\"edge4\" class=\"edge\">\n",
       "<title>2321704268752**&#45;1&#45;&gt;2321704268752</title>\n",
       "<path fill=\"none\" stroke=\"black\" d=\"M1027.3,-78.67C1034.83,-78.72 1043.52,-78.78 1052.75,-78.84\"/>\n",
       "<polygon fill=\"black\" stroke=\"black\" points=\"1052.93,-82.34 1062.95,-78.9 1052.97,-75.34 1052.93,-82.34\"/>\n",
       "</g>\n",
       "<!-- 2321704270816 -->\n",
       "<g id=\"node11\" class=\"node\">\n",
       "<title>2321704270816</title>\n",
       "<polygon fill=\"none\" stroke=\"black\" points=\"753,-58.5 753,-94.5 937,-94.5 937,-58.5 753,-58.5\"/>\n",
       "<text text-anchor=\"middle\" x=\"763\" y=\"-72.8\" font-family=\"Times New Roman,serif\" font-size=\"14.00\"> </text>\n",
       "<polyline fill=\"none\" stroke=\"black\" points=\"773,-58.5 773,-94.5\"/>\n",
       "<text text-anchor=\"middle\" x=\"813.5\" y=\"-72.8\" font-family=\"Times New Roman,serif\" font-size=\"14.00\">data 3.7183</text>\n",
       "<polyline fill=\"none\" stroke=\"black\" points=\"854,-58.5 854,-94.5\"/>\n",
       "<text text-anchor=\"middle\" x=\"895.5\" y=\"-72.8\" font-family=\"Times New Roman,serif\" font-size=\"14.00\">grad 0.0000</text>\n",
       "</g>\n",
       "<!-- 2321704270816&#45;&gt;2321704268752**&#45;1 -->\n",
       "<g id=\"edge10\" class=\"edge\">\n",
       "<title>2321704270816&#45;&gt;2321704268752**&#45;1</title>\n",
       "<path fill=\"none\" stroke=\"black\" d=\"M937.21,-77.69C946.19,-77.81 954.88,-77.92 962.77,-78.03\"/>\n",
       "<polygon fill=\"black\" stroke=\"black\" points=\"962.95,-81.53 972.99,-78.16 963.04,-74.53 962.95,-81.53\"/>\n",
       "</g>\n",
       "<!-- 2321704270816+&#45;&gt;2321704270816 -->\n",
       "<g id=\"edge5\" class=\"edge\">\n",
       "<title>2321704270816+&#45;&gt;2321704270816</title>\n",
       "<path fill=\"none\" stroke=\"black\" d=\"M652.3,-72.98C674.98,-73.4 709.25,-74.03 742.57,-74.64\"/>\n",
       "<polygon fill=\"black\" stroke=\"black\" points=\"742.8,-78.14 752.87,-74.83 742.93,-71.14 742.8,-78.14\"/>\n",
       "</g>\n",
       "</g>\n",
       "</svg>\n"
      ],
      "text/plain": [
       "<graphviz.graphs.Digraph at 0x21c905bb6d0>"
      ]
     },
     "execution_count": 12,
     "metadata": {},
     "output_type": "execute_result"
    }
   ],
   "source": [
    "a = Valor(1, rotulo=\"a\")\n",
    "b = a.sig()\n",
    "plota_grafo(b)"
   ]
  },
  {
   "cell_type": "markdown",
   "metadata": {},
   "source": [
    "## Conclusão\n",
    "\n"
   ]
  }
 ],
 "metadata": {
  "kernelspec": {
   "display_name": "ilumpy",
   "language": "python",
   "name": "ilumpy"
  },
  "language_info": {
   "codemirror_mode": {
    "name": "ipython",
    "version": 3
   },
   "file_extension": ".py",
   "mimetype": "text/x-python",
   "name": "python",
   "nbconvert_exporter": "python",
   "pygments_lexer": "ipython3",
   "version": "3.9.7"
  },
  "org": null
 },
 "nbformat": 4,
 "nbformat_minor": 4
}
